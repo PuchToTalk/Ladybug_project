{
  "nbformat": 4,
  "nbformat_minor": 0,
  "metadata": {
    "colab": {
      "provenance": [],
      "authorship_tag": "ABX9TyNfl8fooxh818/SKlX7WAh1",
      "include_colab_link": true
    },
    "kernelspec": {
      "name": "python3",
      "display_name": "Python 3"
    },
    "language_info": {
      "name": "python"
    }
  },
  "cells": [
    {
      "cell_type": "markdown",
      "metadata": {
        "id": "view-in-github",
        "colab_type": "text"
      },
      "source": [
        "<a href=\"https://colab.research.google.com/github/PuchToTalk/Ladybug_project/blob/master/Ladybugs_Project.ipynb\" target=\"_parent\"><img src=\"https://colab.research.google.com/assets/colab-badge.svg\" alt=\"Open In Colab\"/></a>"
      ]
    },
    {
      "cell_type": "markdown",
      "source": [
        "# Projet Data Analysis & IA"
      ],
      "metadata": {
        "id": "s8X5Voh573jp"
      }
    },
    {
      "cell_type": "markdown",
      "source": [
        "Pour le 06 juin 2023"
      ],
      "metadata": {
        "id": "Zh5FdEkmBPq4"
      }
    },
    {
      "cell_type": "markdown",
      "source": [
        "Réalisé par \n",
        "\n",
        "\n",
        "\n",
        "*   Paul CHU\n",
        "*   Kylian GEOFFROY\n",
        "*   Mouhamed SY\n",
        "\n"
      ],
      "metadata": {
        "id": "5JThsHMQ789-"
      }
    },
    {
      "cell_type": "markdown",
      "source": [
        "\n",
        "\n",
        "---\n",
        "\n"
      ],
      "metadata": {
        "id": "w7gZKh8777Zs"
      }
    },
    {
      "cell_type": "markdown",
      "source": [
        "# **Contexte**"
      ],
      "metadata": {
        "id": "nrmtxY5QAKp6"
      }
    },
    {
      "cell_type": "markdown",
      "source": [
        "## 1. Introduction de la consigne"
      ],
      "metadata": {
        "id": "GKFnW0UqAcza"
      }
    },
    {
      "cell_type": "markdown",
      "source": [
        "## 2. État de l'Art"
      ],
      "metadata": {
        "id": "hcZliRMwAlpS"
      }
    },
    {
      "cell_type": "markdown",
      "source": [
        "\n",
        "\n",
        "---\n",
        "\n"
      ],
      "metadata": {
        "id": "_Wxr96RrAxOJ"
      }
    },
    {
      "cell_type": "markdown",
      "source": [
        "# **Phase Training**"
      ],
      "metadata": {
        "id": "cVajfVLYAWfM"
      }
    },
    {
      "cell_type": "markdown",
      "source": [
        "Début de l'exercice"
      ],
      "metadata": {
        "id": "hxDSfJFGAt_o"
      }
    },
    {
      "cell_type": "markdown",
      "source": [
        "## 0. Étude préliminaire (étude manuelle)"
      ],
      "metadata": {
        "id": "BX6D42Jt_R9Q"
      }
    },
    {
      "cell_type": "markdown",
      "source": [
        "Création de notre propre DataFrame basé sur le comptage par l'oeil humain, et extraction manuelle."
      ],
      "metadata": {
        "id": "RjhZAn1q_WkE"
      }
    },
    {
      "cell_type": "code",
      "source": [
        "import pandas as pd\n",
        "import matplotlib.pyplot as plt\n",
        "import matplotlib\n",
        "import matplotlib.cm as cm\n",
        "import seaborn as sns\n",
        "from sklearn.metrics.pairwise import euclidean_distances\n",
        "from sklearn.metrics.cluster import contingency_matrix\n",
        "from sklearn.metrics import confusion_matrix\n",
        "from sklearn.metrics import classification_report\n",
        "import numpy as np\n",
        "from scipy.stats import chi2_contingency\n",
        "\n",
        "\n",
        "import numpy as np\n",
        "from PIL import Image\n",
        "import os\n",
        "import cv2"
      ],
      "metadata": {
        "id": "XrkS8B5oEYnC"
      },
      "execution_count": 72,
      "outputs": []
    },
    {
      "cell_type": "code",
      "source": [
        "df_manual = pd.read_csv(\"training_labels_with_points.csv\", sep=\";\")\n",
        "df_manual['Class'] = df_manual['Label'].apply(lambda x: 'Coccinella septempunctata' if x == 0 else 'Harmonia axyridis')\n",
        "df_manual = df_manual.rename(columns={\"spot_number\": \"Nbr_Spot\"})\n",
        "\n",
        "df_manual\n",
        "\n"
      ],
      "metadata": {
        "colab": {
          "base_uri": "https://localhost:8080/",
          "height": 424
        },
        "id": "8niOhuE5EAy0",
        "outputId": "d4d5b8df-18df-461c-cab2-f394f453653d"
      },
      "execution_count": 73,
      "outputs": [
        {
          "output_type": "execute_result",
          "data": {
            "text/plain": [
              "    Image_id  Label  Nbr_Spot                      Class\n",
              "0     im-001      0         6  Coccinella septempunctata\n",
              "1     im-002      0         7  Coccinella septempunctata\n",
              "2     im-003      1        17          Harmonia axyridis\n",
              "3     im-004      1        19          Harmonia axyridis\n",
              "4     im-005      1        17          Harmonia axyridis\n",
              "..       ...    ...       ...                        ...\n",
              "195   im-196      0         7  Coccinella septempunctata\n",
              "196   im-197      1         3          Harmonia axyridis\n",
              "197   im-198      0         4  Coccinella septempunctata\n",
              "198   im-199      1         4          Harmonia axyridis\n",
              "199   im-200      0         6  Coccinella septempunctata\n",
              "\n",
              "[200 rows x 4 columns]"
            ],
            "text/html": [
              "\n",
              "  <div id=\"df-3b8fd310-4342-4561-8004-a52e9e3c4f1b\">\n",
              "    <div class=\"colab-df-container\">\n",
              "      <div>\n",
              "<style scoped>\n",
              "    .dataframe tbody tr th:only-of-type {\n",
              "        vertical-align: middle;\n",
              "    }\n",
              "\n",
              "    .dataframe tbody tr th {\n",
              "        vertical-align: top;\n",
              "    }\n",
              "\n",
              "    .dataframe thead th {\n",
              "        text-align: right;\n",
              "    }\n",
              "</style>\n",
              "<table border=\"1\" class=\"dataframe\">\n",
              "  <thead>\n",
              "    <tr style=\"text-align: right;\">\n",
              "      <th></th>\n",
              "      <th>Image_id</th>\n",
              "      <th>Label</th>\n",
              "      <th>Nbr_Spot</th>\n",
              "      <th>Class</th>\n",
              "    </tr>\n",
              "  </thead>\n",
              "  <tbody>\n",
              "    <tr>\n",
              "      <th>0</th>\n",
              "      <td>im-001</td>\n",
              "      <td>0</td>\n",
              "      <td>6</td>\n",
              "      <td>Coccinella septempunctata</td>\n",
              "    </tr>\n",
              "    <tr>\n",
              "      <th>1</th>\n",
              "      <td>im-002</td>\n",
              "      <td>0</td>\n",
              "      <td>7</td>\n",
              "      <td>Coccinella septempunctata</td>\n",
              "    </tr>\n",
              "    <tr>\n",
              "      <th>2</th>\n",
              "      <td>im-003</td>\n",
              "      <td>1</td>\n",
              "      <td>17</td>\n",
              "      <td>Harmonia axyridis</td>\n",
              "    </tr>\n",
              "    <tr>\n",
              "      <th>3</th>\n",
              "      <td>im-004</td>\n",
              "      <td>1</td>\n",
              "      <td>19</td>\n",
              "      <td>Harmonia axyridis</td>\n",
              "    </tr>\n",
              "    <tr>\n",
              "      <th>4</th>\n",
              "      <td>im-005</td>\n",
              "      <td>1</td>\n",
              "      <td>17</td>\n",
              "      <td>Harmonia axyridis</td>\n",
              "    </tr>\n",
              "    <tr>\n",
              "      <th>...</th>\n",
              "      <td>...</td>\n",
              "      <td>...</td>\n",
              "      <td>...</td>\n",
              "      <td>...</td>\n",
              "    </tr>\n",
              "    <tr>\n",
              "      <th>195</th>\n",
              "      <td>im-196</td>\n",
              "      <td>0</td>\n",
              "      <td>7</td>\n",
              "      <td>Coccinella septempunctata</td>\n",
              "    </tr>\n",
              "    <tr>\n",
              "      <th>196</th>\n",
              "      <td>im-197</td>\n",
              "      <td>1</td>\n",
              "      <td>3</td>\n",
              "      <td>Harmonia axyridis</td>\n",
              "    </tr>\n",
              "    <tr>\n",
              "      <th>197</th>\n",
              "      <td>im-198</td>\n",
              "      <td>0</td>\n",
              "      <td>4</td>\n",
              "      <td>Coccinella septempunctata</td>\n",
              "    </tr>\n",
              "    <tr>\n",
              "      <th>198</th>\n",
              "      <td>im-199</td>\n",
              "      <td>1</td>\n",
              "      <td>4</td>\n",
              "      <td>Harmonia axyridis</td>\n",
              "    </tr>\n",
              "    <tr>\n",
              "      <th>199</th>\n",
              "      <td>im-200</td>\n",
              "      <td>0</td>\n",
              "      <td>6</td>\n",
              "      <td>Coccinella septempunctata</td>\n",
              "    </tr>\n",
              "  </tbody>\n",
              "</table>\n",
              "<p>200 rows × 4 columns</p>\n",
              "</div>\n",
              "      <button class=\"colab-df-convert\" onclick=\"convertToInteractive('df-3b8fd310-4342-4561-8004-a52e9e3c4f1b')\"\n",
              "              title=\"Convert this dataframe to an interactive table.\"\n",
              "              style=\"display:none;\">\n",
              "        \n",
              "  <svg xmlns=\"http://www.w3.org/2000/svg\" height=\"24px\"viewBox=\"0 0 24 24\"\n",
              "       width=\"24px\">\n",
              "    <path d=\"M0 0h24v24H0V0z\" fill=\"none\"/>\n",
              "    <path d=\"M18.56 5.44l.94 2.06.94-2.06 2.06-.94-2.06-.94-.94-2.06-.94 2.06-2.06.94zm-11 1L8.5 8.5l.94-2.06 2.06-.94-2.06-.94L8.5 2.5l-.94 2.06-2.06.94zm10 10l.94 2.06.94-2.06 2.06-.94-2.06-.94-.94-2.06-.94 2.06-2.06.94z\"/><path d=\"M17.41 7.96l-1.37-1.37c-.4-.4-.92-.59-1.43-.59-.52 0-1.04.2-1.43.59L10.3 9.45l-7.72 7.72c-.78.78-.78 2.05 0 2.83L4 21.41c.39.39.9.59 1.41.59.51 0 1.02-.2 1.41-.59l7.78-7.78 2.81-2.81c.8-.78.8-2.07 0-2.86zM5.41 20L4 18.59l7.72-7.72 1.47 1.35L5.41 20z\"/>\n",
              "  </svg>\n",
              "      </button>\n",
              "      \n",
              "  <style>\n",
              "    .colab-df-container {\n",
              "      display:flex;\n",
              "      flex-wrap:wrap;\n",
              "      gap: 12px;\n",
              "    }\n",
              "\n",
              "    .colab-df-convert {\n",
              "      background-color: #E8F0FE;\n",
              "      border: none;\n",
              "      border-radius: 50%;\n",
              "      cursor: pointer;\n",
              "      display: none;\n",
              "      fill: #1967D2;\n",
              "      height: 32px;\n",
              "      padding: 0 0 0 0;\n",
              "      width: 32px;\n",
              "    }\n",
              "\n",
              "    .colab-df-convert:hover {\n",
              "      background-color: #E2EBFA;\n",
              "      box-shadow: 0px 1px 2px rgba(60, 64, 67, 0.3), 0px 1px 3px 1px rgba(60, 64, 67, 0.15);\n",
              "      fill: #174EA6;\n",
              "    }\n",
              "\n",
              "    [theme=dark] .colab-df-convert {\n",
              "      background-color: #3B4455;\n",
              "      fill: #D2E3FC;\n",
              "    }\n",
              "\n",
              "    [theme=dark] .colab-df-convert:hover {\n",
              "      background-color: #434B5C;\n",
              "      box-shadow: 0px 1px 3px 1px rgba(0, 0, 0, 0.15);\n",
              "      filter: drop-shadow(0px 1px 2px rgba(0, 0, 0, 0.3));\n",
              "      fill: #FFFFFF;\n",
              "    }\n",
              "  </style>\n",
              "\n",
              "      <script>\n",
              "        const buttonEl =\n",
              "          document.querySelector('#df-3b8fd310-4342-4561-8004-a52e9e3c4f1b button.colab-df-convert');\n",
              "        buttonEl.style.display =\n",
              "          google.colab.kernel.accessAllowed ? 'block' : 'none';\n",
              "\n",
              "        async function convertToInteractive(key) {\n",
              "          const element = document.querySelector('#df-3b8fd310-4342-4561-8004-a52e9e3c4f1b');\n",
              "          const dataTable =\n",
              "            await google.colab.kernel.invokeFunction('convertToInteractive',\n",
              "                                                     [key], {});\n",
              "          if (!dataTable) return;\n",
              "\n",
              "          const docLinkHtml = 'Like what you see? Visit the ' +\n",
              "            '<a target=\"_blank\" href=https://colab.research.google.com/notebooks/data_table.ipynb>data table notebook</a>'\n",
              "            + ' to learn more about interactive tables.';\n",
              "          element.innerHTML = '';\n",
              "          dataTable['output_type'] = 'display_data';\n",
              "          await google.colab.output.renderOutput(dataTable, element);\n",
              "          const docLink = document.createElement('div');\n",
              "          docLink.innerHTML = docLinkHtml;\n",
              "          element.appendChild(docLink);\n",
              "        }\n",
              "      </script>\n",
              "    </div>\n",
              "  </div>\n",
              "  "
            ]
          },
          "metadata": {},
          "execution_count": 73
        }
      ]
    },
    {
      "cell_type": "code",
      "source": [
        "def int_Count(Nbr_Spot):\n",
        "    if Nbr_Spot <= 2 :\n",
        "        return \"1-2\" # catégorie de \n",
        "    elif (Nbr_Spot > 2) & (Nbr_Spot <= 6):\n",
        "        return \"3-6\" # incertitude à l'oeil nu\n",
        "    elif (Nbr_Spot == 7):\n",
        "        return \"7\"\n",
        "    elif (Nbr_Spot > 7):\n",
        "        return \"8+\"\n",
        "    else:\n",
        "        return \"\"\n",
        " "
      ],
      "metadata": {
        "id": "5j9HGEFIFl4D"
      },
      "execution_count": 74,
      "outputs": []
    },
    {
      "cell_type": "code",
      "source": [
        "df_manual['SpotInterval'] = df_manual['Nbr_Spot'].apply(int_Count)\n",
        "df_manual"
      ],
      "metadata": {
        "colab": {
          "base_uri": "https://localhost:8080/",
          "height": 424
        },
        "id": "FdZBCpQ1EWlm",
        "outputId": "8ead1281-73bf-44b7-e6ae-e1a887ede84b"
      },
      "execution_count": 75,
      "outputs": [
        {
          "output_type": "execute_result",
          "data": {
            "text/plain": [
              "    Image_id  Label  Nbr_Spot                      Class SpotInterval\n",
              "0     im-001      0         6  Coccinella septempunctata          3-6\n",
              "1     im-002      0         7  Coccinella septempunctata            7\n",
              "2     im-003      1        17          Harmonia axyridis           8+\n",
              "3     im-004      1        19          Harmonia axyridis           8+\n",
              "4     im-005      1        17          Harmonia axyridis           8+\n",
              "..       ...    ...       ...                        ...          ...\n",
              "195   im-196      0         7  Coccinella septempunctata            7\n",
              "196   im-197      1         3          Harmonia axyridis          3-6\n",
              "197   im-198      0         4  Coccinella septempunctata          3-6\n",
              "198   im-199      1         4          Harmonia axyridis          3-6\n",
              "199   im-200      0         6  Coccinella septempunctata          3-6\n",
              "\n",
              "[200 rows x 5 columns]"
            ],
            "text/html": [
              "\n",
              "  <div id=\"df-aa7ae314-d922-4e7d-919d-177f40e7107d\">\n",
              "    <div class=\"colab-df-container\">\n",
              "      <div>\n",
              "<style scoped>\n",
              "    .dataframe tbody tr th:only-of-type {\n",
              "        vertical-align: middle;\n",
              "    }\n",
              "\n",
              "    .dataframe tbody tr th {\n",
              "        vertical-align: top;\n",
              "    }\n",
              "\n",
              "    .dataframe thead th {\n",
              "        text-align: right;\n",
              "    }\n",
              "</style>\n",
              "<table border=\"1\" class=\"dataframe\">\n",
              "  <thead>\n",
              "    <tr style=\"text-align: right;\">\n",
              "      <th></th>\n",
              "      <th>Image_id</th>\n",
              "      <th>Label</th>\n",
              "      <th>Nbr_Spot</th>\n",
              "      <th>Class</th>\n",
              "      <th>SpotInterval</th>\n",
              "    </tr>\n",
              "  </thead>\n",
              "  <tbody>\n",
              "    <tr>\n",
              "      <th>0</th>\n",
              "      <td>im-001</td>\n",
              "      <td>0</td>\n",
              "      <td>6</td>\n",
              "      <td>Coccinella septempunctata</td>\n",
              "      <td>3-6</td>\n",
              "    </tr>\n",
              "    <tr>\n",
              "      <th>1</th>\n",
              "      <td>im-002</td>\n",
              "      <td>0</td>\n",
              "      <td>7</td>\n",
              "      <td>Coccinella septempunctata</td>\n",
              "      <td>7</td>\n",
              "    </tr>\n",
              "    <tr>\n",
              "      <th>2</th>\n",
              "      <td>im-003</td>\n",
              "      <td>1</td>\n",
              "      <td>17</td>\n",
              "      <td>Harmonia axyridis</td>\n",
              "      <td>8+</td>\n",
              "    </tr>\n",
              "    <tr>\n",
              "      <th>3</th>\n",
              "      <td>im-004</td>\n",
              "      <td>1</td>\n",
              "      <td>19</td>\n",
              "      <td>Harmonia axyridis</td>\n",
              "      <td>8+</td>\n",
              "    </tr>\n",
              "    <tr>\n",
              "      <th>4</th>\n",
              "      <td>im-005</td>\n",
              "      <td>1</td>\n",
              "      <td>17</td>\n",
              "      <td>Harmonia axyridis</td>\n",
              "      <td>8+</td>\n",
              "    </tr>\n",
              "    <tr>\n",
              "      <th>...</th>\n",
              "      <td>...</td>\n",
              "      <td>...</td>\n",
              "      <td>...</td>\n",
              "      <td>...</td>\n",
              "      <td>...</td>\n",
              "    </tr>\n",
              "    <tr>\n",
              "      <th>195</th>\n",
              "      <td>im-196</td>\n",
              "      <td>0</td>\n",
              "      <td>7</td>\n",
              "      <td>Coccinella septempunctata</td>\n",
              "      <td>7</td>\n",
              "    </tr>\n",
              "    <tr>\n",
              "      <th>196</th>\n",
              "      <td>im-197</td>\n",
              "      <td>1</td>\n",
              "      <td>3</td>\n",
              "      <td>Harmonia axyridis</td>\n",
              "      <td>3-6</td>\n",
              "    </tr>\n",
              "    <tr>\n",
              "      <th>197</th>\n",
              "      <td>im-198</td>\n",
              "      <td>0</td>\n",
              "      <td>4</td>\n",
              "      <td>Coccinella septempunctata</td>\n",
              "      <td>3-6</td>\n",
              "    </tr>\n",
              "    <tr>\n",
              "      <th>198</th>\n",
              "      <td>im-199</td>\n",
              "      <td>1</td>\n",
              "      <td>4</td>\n",
              "      <td>Harmonia axyridis</td>\n",
              "      <td>3-6</td>\n",
              "    </tr>\n",
              "    <tr>\n",
              "      <th>199</th>\n",
              "      <td>im-200</td>\n",
              "      <td>0</td>\n",
              "      <td>6</td>\n",
              "      <td>Coccinella septempunctata</td>\n",
              "      <td>3-6</td>\n",
              "    </tr>\n",
              "  </tbody>\n",
              "</table>\n",
              "<p>200 rows × 5 columns</p>\n",
              "</div>\n",
              "      <button class=\"colab-df-convert\" onclick=\"convertToInteractive('df-aa7ae314-d922-4e7d-919d-177f40e7107d')\"\n",
              "              title=\"Convert this dataframe to an interactive table.\"\n",
              "              style=\"display:none;\">\n",
              "        \n",
              "  <svg xmlns=\"http://www.w3.org/2000/svg\" height=\"24px\"viewBox=\"0 0 24 24\"\n",
              "       width=\"24px\">\n",
              "    <path d=\"M0 0h24v24H0V0z\" fill=\"none\"/>\n",
              "    <path d=\"M18.56 5.44l.94 2.06.94-2.06 2.06-.94-2.06-.94-.94-2.06-.94 2.06-2.06.94zm-11 1L8.5 8.5l.94-2.06 2.06-.94-2.06-.94L8.5 2.5l-.94 2.06-2.06.94zm10 10l.94 2.06.94-2.06 2.06-.94-2.06-.94-.94-2.06-.94 2.06-2.06.94z\"/><path d=\"M17.41 7.96l-1.37-1.37c-.4-.4-.92-.59-1.43-.59-.52 0-1.04.2-1.43.59L10.3 9.45l-7.72 7.72c-.78.78-.78 2.05 0 2.83L4 21.41c.39.39.9.59 1.41.59.51 0 1.02-.2 1.41-.59l7.78-7.78 2.81-2.81c.8-.78.8-2.07 0-2.86zM5.41 20L4 18.59l7.72-7.72 1.47 1.35L5.41 20z\"/>\n",
              "  </svg>\n",
              "      </button>\n",
              "      \n",
              "  <style>\n",
              "    .colab-df-container {\n",
              "      display:flex;\n",
              "      flex-wrap:wrap;\n",
              "      gap: 12px;\n",
              "    }\n",
              "\n",
              "    .colab-df-convert {\n",
              "      background-color: #E8F0FE;\n",
              "      border: none;\n",
              "      border-radius: 50%;\n",
              "      cursor: pointer;\n",
              "      display: none;\n",
              "      fill: #1967D2;\n",
              "      height: 32px;\n",
              "      padding: 0 0 0 0;\n",
              "      width: 32px;\n",
              "    }\n",
              "\n",
              "    .colab-df-convert:hover {\n",
              "      background-color: #E2EBFA;\n",
              "      box-shadow: 0px 1px 2px rgba(60, 64, 67, 0.3), 0px 1px 3px 1px rgba(60, 64, 67, 0.15);\n",
              "      fill: #174EA6;\n",
              "    }\n",
              "\n",
              "    [theme=dark] .colab-df-convert {\n",
              "      background-color: #3B4455;\n",
              "      fill: #D2E3FC;\n",
              "    }\n",
              "\n",
              "    [theme=dark] .colab-df-convert:hover {\n",
              "      background-color: #434B5C;\n",
              "      box-shadow: 0px 1px 3px 1px rgba(0, 0, 0, 0.15);\n",
              "      filter: drop-shadow(0px 1px 2px rgba(0, 0, 0, 0.3));\n",
              "      fill: #FFFFFF;\n",
              "    }\n",
              "  </style>\n",
              "\n",
              "      <script>\n",
              "        const buttonEl =\n",
              "          document.querySelector('#df-aa7ae314-d922-4e7d-919d-177f40e7107d button.colab-df-convert');\n",
              "        buttonEl.style.display =\n",
              "          google.colab.kernel.accessAllowed ? 'block' : 'none';\n",
              "\n",
              "        async function convertToInteractive(key) {\n",
              "          const element = document.querySelector('#df-aa7ae314-d922-4e7d-919d-177f40e7107d');\n",
              "          const dataTable =\n",
              "            await google.colab.kernel.invokeFunction('convertToInteractive',\n",
              "                                                     [key], {});\n",
              "          if (!dataTable) return;\n",
              "\n",
              "          const docLinkHtml = 'Like what you see? Visit the ' +\n",
              "            '<a target=\"_blank\" href=https://colab.research.google.com/notebooks/data_table.ipynb>data table notebook</a>'\n",
              "            + ' to learn more about interactive tables.';\n",
              "          element.innerHTML = '';\n",
              "          dataTable['output_type'] = 'display_data';\n",
              "          await google.colab.output.renderOutput(dataTable, element);\n",
              "          const docLink = document.createElement('div');\n",
              "          docLink.innerHTML = docLinkHtml;\n",
              "          element.appendChild(docLink);\n",
              "        }\n",
              "      </script>\n",
              "    </div>\n",
              "  </div>\n",
              "  "
            ]
          },
          "metadata": {},
          "execution_count": 75
        }
      ]
    },
    {
      "cell_type": "code",
      "source": [
        "df_color_manual = pd.read_csv(\"colorClassification.csv\", sep=\";\")\n",
        "df_color_manual = df_color_manual.drop(df_color_manual.columns[[0, 2, 3]], axis=1)\n",
        "df_color_manual"
      ],
      "metadata": {
        "colab": {
          "base_uri": "https://localhost:8080/",
          "height": 424
        },
        "id": "CUcvf39NG_o0",
        "outputId": "682974bb-3933-473c-ed9e-f5caf3faa5f1"
      },
      "execution_count": 76,
      "outputs": [
        {
          "output_type": "execute_result",
          "data": {
            "text/plain": [
              "    Image_id ElytraColor SpotColor  ElytraFloat  SpotFloat\n",
              "0     im-001      Orange     Black            2          0\n",
              "1     im-002      Orange     Black            2          0\n",
              "2     im-003         Red     Black            1          0\n",
              "3     im-004      Orange     Black            2          0\n",
              "4     im-005         Red     Black            1          0\n",
              "..       ...         ...       ...          ...        ...\n",
              "195   im-196         Red     Black            1          0\n",
              "196   im-197       Black       Red            0          1\n",
              "197   im-198         Red     Black            1          0\n",
              "198   im-199       Black    Orange            0          2\n",
              "199   im-200         Red     Black            1          0\n",
              "\n",
              "[200 rows x 5 columns]"
            ],
            "text/html": [
              "\n",
              "  <div id=\"df-98ac183f-43b3-4834-b6d6-0d860e840329\">\n",
              "    <div class=\"colab-df-container\">\n",
              "      <div>\n",
              "<style scoped>\n",
              "    .dataframe tbody tr th:only-of-type {\n",
              "        vertical-align: middle;\n",
              "    }\n",
              "\n",
              "    .dataframe tbody tr th {\n",
              "        vertical-align: top;\n",
              "    }\n",
              "\n",
              "    .dataframe thead th {\n",
              "        text-align: right;\n",
              "    }\n",
              "</style>\n",
              "<table border=\"1\" class=\"dataframe\">\n",
              "  <thead>\n",
              "    <tr style=\"text-align: right;\">\n",
              "      <th></th>\n",
              "      <th>Image_id</th>\n",
              "      <th>ElytraColor</th>\n",
              "      <th>SpotColor</th>\n",
              "      <th>ElytraFloat</th>\n",
              "      <th>SpotFloat</th>\n",
              "    </tr>\n",
              "  </thead>\n",
              "  <tbody>\n",
              "    <tr>\n",
              "      <th>0</th>\n",
              "      <td>im-001</td>\n",
              "      <td>Orange</td>\n",
              "      <td>Black</td>\n",
              "      <td>2</td>\n",
              "      <td>0</td>\n",
              "    </tr>\n",
              "    <tr>\n",
              "      <th>1</th>\n",
              "      <td>im-002</td>\n",
              "      <td>Orange</td>\n",
              "      <td>Black</td>\n",
              "      <td>2</td>\n",
              "      <td>0</td>\n",
              "    </tr>\n",
              "    <tr>\n",
              "      <th>2</th>\n",
              "      <td>im-003</td>\n",
              "      <td>Red</td>\n",
              "      <td>Black</td>\n",
              "      <td>1</td>\n",
              "      <td>0</td>\n",
              "    </tr>\n",
              "    <tr>\n",
              "      <th>3</th>\n",
              "      <td>im-004</td>\n",
              "      <td>Orange</td>\n",
              "      <td>Black</td>\n",
              "      <td>2</td>\n",
              "      <td>0</td>\n",
              "    </tr>\n",
              "    <tr>\n",
              "      <th>4</th>\n",
              "      <td>im-005</td>\n",
              "      <td>Red</td>\n",
              "      <td>Black</td>\n",
              "      <td>1</td>\n",
              "      <td>0</td>\n",
              "    </tr>\n",
              "    <tr>\n",
              "      <th>...</th>\n",
              "      <td>...</td>\n",
              "      <td>...</td>\n",
              "      <td>...</td>\n",
              "      <td>...</td>\n",
              "      <td>...</td>\n",
              "    </tr>\n",
              "    <tr>\n",
              "      <th>195</th>\n",
              "      <td>im-196</td>\n",
              "      <td>Red</td>\n",
              "      <td>Black</td>\n",
              "      <td>1</td>\n",
              "      <td>0</td>\n",
              "    </tr>\n",
              "    <tr>\n",
              "      <th>196</th>\n",
              "      <td>im-197</td>\n",
              "      <td>Black</td>\n",
              "      <td>Red</td>\n",
              "      <td>0</td>\n",
              "      <td>1</td>\n",
              "    </tr>\n",
              "    <tr>\n",
              "      <th>197</th>\n",
              "      <td>im-198</td>\n",
              "      <td>Red</td>\n",
              "      <td>Black</td>\n",
              "      <td>1</td>\n",
              "      <td>0</td>\n",
              "    </tr>\n",
              "    <tr>\n",
              "      <th>198</th>\n",
              "      <td>im-199</td>\n",
              "      <td>Black</td>\n",
              "      <td>Orange</td>\n",
              "      <td>0</td>\n",
              "      <td>2</td>\n",
              "    </tr>\n",
              "    <tr>\n",
              "      <th>199</th>\n",
              "      <td>im-200</td>\n",
              "      <td>Red</td>\n",
              "      <td>Black</td>\n",
              "      <td>1</td>\n",
              "      <td>0</td>\n",
              "    </tr>\n",
              "  </tbody>\n",
              "</table>\n",
              "<p>200 rows × 5 columns</p>\n",
              "</div>\n",
              "      <button class=\"colab-df-convert\" onclick=\"convertToInteractive('df-98ac183f-43b3-4834-b6d6-0d860e840329')\"\n",
              "              title=\"Convert this dataframe to an interactive table.\"\n",
              "              style=\"display:none;\">\n",
              "        \n",
              "  <svg xmlns=\"http://www.w3.org/2000/svg\" height=\"24px\"viewBox=\"0 0 24 24\"\n",
              "       width=\"24px\">\n",
              "    <path d=\"M0 0h24v24H0V0z\" fill=\"none\"/>\n",
              "    <path d=\"M18.56 5.44l.94 2.06.94-2.06 2.06-.94-2.06-.94-.94-2.06-.94 2.06-2.06.94zm-11 1L8.5 8.5l.94-2.06 2.06-.94-2.06-.94L8.5 2.5l-.94 2.06-2.06.94zm10 10l.94 2.06.94-2.06 2.06-.94-2.06-.94-.94-2.06-.94 2.06-2.06.94z\"/><path d=\"M17.41 7.96l-1.37-1.37c-.4-.4-.92-.59-1.43-.59-.52 0-1.04.2-1.43.59L10.3 9.45l-7.72 7.72c-.78.78-.78 2.05 0 2.83L4 21.41c.39.39.9.59 1.41.59.51 0 1.02-.2 1.41-.59l7.78-7.78 2.81-2.81c.8-.78.8-2.07 0-2.86zM5.41 20L4 18.59l7.72-7.72 1.47 1.35L5.41 20z\"/>\n",
              "  </svg>\n",
              "      </button>\n",
              "      \n",
              "  <style>\n",
              "    .colab-df-container {\n",
              "      display:flex;\n",
              "      flex-wrap:wrap;\n",
              "      gap: 12px;\n",
              "    }\n",
              "\n",
              "    .colab-df-convert {\n",
              "      background-color: #E8F0FE;\n",
              "      border: none;\n",
              "      border-radius: 50%;\n",
              "      cursor: pointer;\n",
              "      display: none;\n",
              "      fill: #1967D2;\n",
              "      height: 32px;\n",
              "      padding: 0 0 0 0;\n",
              "      width: 32px;\n",
              "    }\n",
              "\n",
              "    .colab-df-convert:hover {\n",
              "      background-color: #E2EBFA;\n",
              "      box-shadow: 0px 1px 2px rgba(60, 64, 67, 0.3), 0px 1px 3px 1px rgba(60, 64, 67, 0.15);\n",
              "      fill: #174EA6;\n",
              "    }\n",
              "\n",
              "    [theme=dark] .colab-df-convert {\n",
              "      background-color: #3B4455;\n",
              "      fill: #D2E3FC;\n",
              "    }\n",
              "\n",
              "    [theme=dark] .colab-df-convert:hover {\n",
              "      background-color: #434B5C;\n",
              "      box-shadow: 0px 1px 3px 1px rgba(0, 0, 0, 0.15);\n",
              "      filter: drop-shadow(0px 1px 2px rgba(0, 0, 0, 0.3));\n",
              "      fill: #FFFFFF;\n",
              "    }\n",
              "  </style>\n",
              "\n",
              "      <script>\n",
              "        const buttonEl =\n",
              "          document.querySelector('#df-98ac183f-43b3-4834-b6d6-0d860e840329 button.colab-df-convert');\n",
              "        buttonEl.style.display =\n",
              "          google.colab.kernel.accessAllowed ? 'block' : 'none';\n",
              "\n",
              "        async function convertToInteractive(key) {\n",
              "          const element = document.querySelector('#df-98ac183f-43b3-4834-b6d6-0d860e840329');\n",
              "          const dataTable =\n",
              "            await google.colab.kernel.invokeFunction('convertToInteractive',\n",
              "                                                     [key], {});\n",
              "          if (!dataTable) return;\n",
              "\n",
              "          const docLinkHtml = 'Like what you see? Visit the ' +\n",
              "            '<a target=\"_blank\" href=https://colab.research.google.com/notebooks/data_table.ipynb>data table notebook</a>'\n",
              "            + ' to learn more about interactive tables.';\n",
              "          element.innerHTML = '';\n",
              "          dataTable['output_type'] = 'display_data';\n",
              "          await google.colab.output.renderOutput(dataTable, element);\n",
              "          const docLink = document.createElement('div');\n",
              "          docLink.innerHTML = docLinkHtml;\n",
              "          element.appendChild(docLink);\n",
              "        }\n",
              "      </script>\n",
              "    </div>\n",
              "  </div>\n",
              "  "
            ]
          },
          "metadata": {},
          "execution_count": 76
        }
      ]
    },
    {
      "cell_type": "code",
      "source": [
        "df_final_manual = pd.merge(df_manual, df_color_manual, on=df_manual.columns[0])\n",
        "df_final_manual"
      ],
      "metadata": {
        "colab": {
          "base_uri": "https://localhost:8080/",
          "height": 424
        },
        "id": "m3mbjv-TKPjd",
        "outputId": "fcb1608c-079f-4b75-fa26-4a89d62333fa"
      },
      "execution_count": 77,
      "outputs": [
        {
          "output_type": "execute_result",
          "data": {
            "text/plain": [
              "    Image_id  Label  Nbr_Spot                      Class SpotInterval  \\\n",
              "0     im-001      0         6  Coccinella septempunctata          3-6   \n",
              "1     im-002      0         7  Coccinella septempunctata            7   \n",
              "2     im-003      1        17          Harmonia axyridis           8+   \n",
              "3     im-004      1        19          Harmonia axyridis           8+   \n",
              "4     im-005      1        17          Harmonia axyridis           8+   \n",
              "..       ...    ...       ...                        ...          ...   \n",
              "195   im-196      0         7  Coccinella septempunctata            7   \n",
              "196   im-197      1         3          Harmonia axyridis          3-6   \n",
              "197   im-198      0         4  Coccinella septempunctata          3-6   \n",
              "198   im-199      1         4          Harmonia axyridis          3-6   \n",
              "199   im-200      0         6  Coccinella septempunctata          3-6   \n",
              "\n",
              "    ElytraColor SpotColor  ElytraFloat  SpotFloat  \n",
              "0        Orange     Black            2          0  \n",
              "1        Orange     Black            2          0  \n",
              "2           Red     Black            1          0  \n",
              "3        Orange     Black            2          0  \n",
              "4           Red     Black            1          0  \n",
              "..          ...       ...          ...        ...  \n",
              "195         Red     Black            1          0  \n",
              "196       Black       Red            0          1  \n",
              "197         Red     Black            1          0  \n",
              "198       Black    Orange            0          2  \n",
              "199         Red     Black            1          0  \n",
              "\n",
              "[200 rows x 9 columns]"
            ],
            "text/html": [
              "\n",
              "  <div id=\"df-52c397c2-926a-426e-a4ed-a5205c9d82c5\">\n",
              "    <div class=\"colab-df-container\">\n",
              "      <div>\n",
              "<style scoped>\n",
              "    .dataframe tbody tr th:only-of-type {\n",
              "        vertical-align: middle;\n",
              "    }\n",
              "\n",
              "    .dataframe tbody tr th {\n",
              "        vertical-align: top;\n",
              "    }\n",
              "\n",
              "    .dataframe thead th {\n",
              "        text-align: right;\n",
              "    }\n",
              "</style>\n",
              "<table border=\"1\" class=\"dataframe\">\n",
              "  <thead>\n",
              "    <tr style=\"text-align: right;\">\n",
              "      <th></th>\n",
              "      <th>Image_id</th>\n",
              "      <th>Label</th>\n",
              "      <th>Nbr_Spot</th>\n",
              "      <th>Class</th>\n",
              "      <th>SpotInterval</th>\n",
              "      <th>ElytraColor</th>\n",
              "      <th>SpotColor</th>\n",
              "      <th>ElytraFloat</th>\n",
              "      <th>SpotFloat</th>\n",
              "    </tr>\n",
              "  </thead>\n",
              "  <tbody>\n",
              "    <tr>\n",
              "      <th>0</th>\n",
              "      <td>im-001</td>\n",
              "      <td>0</td>\n",
              "      <td>6</td>\n",
              "      <td>Coccinella septempunctata</td>\n",
              "      <td>3-6</td>\n",
              "      <td>Orange</td>\n",
              "      <td>Black</td>\n",
              "      <td>2</td>\n",
              "      <td>0</td>\n",
              "    </tr>\n",
              "    <tr>\n",
              "      <th>1</th>\n",
              "      <td>im-002</td>\n",
              "      <td>0</td>\n",
              "      <td>7</td>\n",
              "      <td>Coccinella septempunctata</td>\n",
              "      <td>7</td>\n",
              "      <td>Orange</td>\n",
              "      <td>Black</td>\n",
              "      <td>2</td>\n",
              "      <td>0</td>\n",
              "    </tr>\n",
              "    <tr>\n",
              "      <th>2</th>\n",
              "      <td>im-003</td>\n",
              "      <td>1</td>\n",
              "      <td>17</td>\n",
              "      <td>Harmonia axyridis</td>\n",
              "      <td>8+</td>\n",
              "      <td>Red</td>\n",
              "      <td>Black</td>\n",
              "      <td>1</td>\n",
              "      <td>0</td>\n",
              "    </tr>\n",
              "    <tr>\n",
              "      <th>3</th>\n",
              "      <td>im-004</td>\n",
              "      <td>1</td>\n",
              "      <td>19</td>\n",
              "      <td>Harmonia axyridis</td>\n",
              "      <td>8+</td>\n",
              "      <td>Orange</td>\n",
              "      <td>Black</td>\n",
              "      <td>2</td>\n",
              "      <td>0</td>\n",
              "    </tr>\n",
              "    <tr>\n",
              "      <th>4</th>\n",
              "      <td>im-005</td>\n",
              "      <td>1</td>\n",
              "      <td>17</td>\n",
              "      <td>Harmonia axyridis</td>\n",
              "      <td>8+</td>\n",
              "      <td>Red</td>\n",
              "      <td>Black</td>\n",
              "      <td>1</td>\n",
              "      <td>0</td>\n",
              "    </tr>\n",
              "    <tr>\n",
              "      <th>...</th>\n",
              "      <td>...</td>\n",
              "      <td>...</td>\n",
              "      <td>...</td>\n",
              "      <td>...</td>\n",
              "      <td>...</td>\n",
              "      <td>...</td>\n",
              "      <td>...</td>\n",
              "      <td>...</td>\n",
              "      <td>...</td>\n",
              "    </tr>\n",
              "    <tr>\n",
              "      <th>195</th>\n",
              "      <td>im-196</td>\n",
              "      <td>0</td>\n",
              "      <td>7</td>\n",
              "      <td>Coccinella septempunctata</td>\n",
              "      <td>7</td>\n",
              "      <td>Red</td>\n",
              "      <td>Black</td>\n",
              "      <td>1</td>\n",
              "      <td>0</td>\n",
              "    </tr>\n",
              "    <tr>\n",
              "      <th>196</th>\n",
              "      <td>im-197</td>\n",
              "      <td>1</td>\n",
              "      <td>3</td>\n",
              "      <td>Harmonia axyridis</td>\n",
              "      <td>3-6</td>\n",
              "      <td>Black</td>\n",
              "      <td>Red</td>\n",
              "      <td>0</td>\n",
              "      <td>1</td>\n",
              "    </tr>\n",
              "    <tr>\n",
              "      <th>197</th>\n",
              "      <td>im-198</td>\n",
              "      <td>0</td>\n",
              "      <td>4</td>\n",
              "      <td>Coccinella septempunctata</td>\n",
              "      <td>3-6</td>\n",
              "      <td>Red</td>\n",
              "      <td>Black</td>\n",
              "      <td>1</td>\n",
              "      <td>0</td>\n",
              "    </tr>\n",
              "    <tr>\n",
              "      <th>198</th>\n",
              "      <td>im-199</td>\n",
              "      <td>1</td>\n",
              "      <td>4</td>\n",
              "      <td>Harmonia axyridis</td>\n",
              "      <td>3-6</td>\n",
              "      <td>Black</td>\n",
              "      <td>Orange</td>\n",
              "      <td>0</td>\n",
              "      <td>2</td>\n",
              "    </tr>\n",
              "    <tr>\n",
              "      <th>199</th>\n",
              "      <td>im-200</td>\n",
              "      <td>0</td>\n",
              "      <td>6</td>\n",
              "      <td>Coccinella septempunctata</td>\n",
              "      <td>3-6</td>\n",
              "      <td>Red</td>\n",
              "      <td>Black</td>\n",
              "      <td>1</td>\n",
              "      <td>0</td>\n",
              "    </tr>\n",
              "  </tbody>\n",
              "</table>\n",
              "<p>200 rows × 9 columns</p>\n",
              "</div>\n",
              "      <button class=\"colab-df-convert\" onclick=\"convertToInteractive('df-52c397c2-926a-426e-a4ed-a5205c9d82c5')\"\n",
              "              title=\"Convert this dataframe to an interactive table.\"\n",
              "              style=\"display:none;\">\n",
              "        \n",
              "  <svg xmlns=\"http://www.w3.org/2000/svg\" height=\"24px\"viewBox=\"0 0 24 24\"\n",
              "       width=\"24px\">\n",
              "    <path d=\"M0 0h24v24H0V0z\" fill=\"none\"/>\n",
              "    <path d=\"M18.56 5.44l.94 2.06.94-2.06 2.06-.94-2.06-.94-.94-2.06-.94 2.06-2.06.94zm-11 1L8.5 8.5l.94-2.06 2.06-.94-2.06-.94L8.5 2.5l-.94 2.06-2.06.94zm10 10l.94 2.06.94-2.06 2.06-.94-2.06-.94-.94-2.06-.94 2.06-2.06.94z\"/><path d=\"M17.41 7.96l-1.37-1.37c-.4-.4-.92-.59-1.43-.59-.52 0-1.04.2-1.43.59L10.3 9.45l-7.72 7.72c-.78.78-.78 2.05 0 2.83L4 21.41c.39.39.9.59 1.41.59.51 0 1.02-.2 1.41-.59l7.78-7.78 2.81-2.81c.8-.78.8-2.07 0-2.86zM5.41 20L4 18.59l7.72-7.72 1.47 1.35L5.41 20z\"/>\n",
              "  </svg>\n",
              "      </button>\n",
              "      \n",
              "  <style>\n",
              "    .colab-df-container {\n",
              "      display:flex;\n",
              "      flex-wrap:wrap;\n",
              "      gap: 12px;\n",
              "    }\n",
              "\n",
              "    .colab-df-convert {\n",
              "      background-color: #E8F0FE;\n",
              "      border: none;\n",
              "      border-radius: 50%;\n",
              "      cursor: pointer;\n",
              "      display: none;\n",
              "      fill: #1967D2;\n",
              "      height: 32px;\n",
              "      padding: 0 0 0 0;\n",
              "      width: 32px;\n",
              "    }\n",
              "\n",
              "    .colab-df-convert:hover {\n",
              "      background-color: #E2EBFA;\n",
              "      box-shadow: 0px 1px 2px rgba(60, 64, 67, 0.3), 0px 1px 3px 1px rgba(60, 64, 67, 0.15);\n",
              "      fill: #174EA6;\n",
              "    }\n",
              "\n",
              "    [theme=dark] .colab-df-convert {\n",
              "      background-color: #3B4455;\n",
              "      fill: #D2E3FC;\n",
              "    }\n",
              "\n",
              "    [theme=dark] .colab-df-convert:hover {\n",
              "      background-color: #434B5C;\n",
              "      box-shadow: 0px 1px 3px 1px rgba(0, 0, 0, 0.15);\n",
              "      filter: drop-shadow(0px 1px 2px rgba(0, 0, 0, 0.3));\n",
              "      fill: #FFFFFF;\n",
              "    }\n",
              "  </style>\n",
              "\n",
              "      <script>\n",
              "        const buttonEl =\n",
              "          document.querySelector('#df-52c397c2-926a-426e-a4ed-a5205c9d82c5 button.colab-df-convert');\n",
              "        buttonEl.style.display =\n",
              "          google.colab.kernel.accessAllowed ? 'block' : 'none';\n",
              "\n",
              "        async function convertToInteractive(key) {\n",
              "          const element = document.querySelector('#df-52c397c2-926a-426e-a4ed-a5205c9d82c5');\n",
              "          const dataTable =\n",
              "            await google.colab.kernel.invokeFunction('convertToInteractive',\n",
              "                                                     [key], {});\n",
              "          if (!dataTable) return;\n",
              "\n",
              "          const docLinkHtml = 'Like what you see? Visit the ' +\n",
              "            '<a target=\"_blank\" href=https://colab.research.google.com/notebooks/data_table.ipynb>data table notebook</a>'\n",
              "            + ' to learn more about interactive tables.';\n",
              "          element.innerHTML = '';\n",
              "          dataTable['output_type'] = 'display_data';\n",
              "          await google.colab.output.renderOutput(dataTable, element);\n",
              "          const docLink = document.createElement('div');\n",
              "          docLink.innerHTML = docLinkHtml;\n",
              "          element.appendChild(docLink);\n",
              "        }\n",
              "      </script>\n",
              "    </div>\n",
              "  </div>\n",
              "  "
            ]
          },
          "metadata": {},
          "execution_count": 77
        }
      ]
    },
    {
      "cell_type": "code",
      "source": [
        "df_final_manual.to_csv('df_manual.csv')"
      ],
      "metadata": {
        "id": "F8oHJXX2Ks7r"
      },
      "execution_count": 78,
      "outputs": []
    },
    {
      "cell_type": "code",
      "source": [
        "Class_nbr=df_final_manual['Class'].value_counts()\n",
        "Class_nbr.plot.pie(y='Class', autopct=\"%.2f%%\", figsize=(5, 5),ylabel='',title='Distribution selon la classe de la coccinnelle')\n",
        "plt.show()"
      ],
      "metadata": {
        "colab": {
          "base_uri": "https://localhost:8080/",
          "height": 444
        },
        "id": "JzZEzHQWLOIp",
        "outputId": "70ae563f-9d21-463a-ef0d-78ff88f14fae"
      },
      "execution_count": 79,
      "outputs": [
        {
          "output_type": "display_data",
          "data": {
            "text/plain": [
              "<Figure size 500x500 with 1 Axes>"
            ],
            "image/png": "[encoded data removed]"
          },
          "metadata": {}
        }
      ]
    },
    {
      "cell_type": "code",
      "source": [
        "Elytra_color=df_final_manual['ElytraColor'].value_counts()\n",
        "Elytra_color.plot.pie(y='ElytraColor', autopct=\"%.2f%%\", figsize=(5, 5),ylabel='',title='Distribution selon la couleur des élytras')\n",
        "plt.show()"
      ],
      "metadata": {
        "colab": {
          "base_uri": "https://localhost:8080/",
          "height": 444
        },
        "id": "ZYKPDmrZLQvG",
        "outputId": "70c0b2c0-36c0-4331-d959-69ed48fa4f35"
      },
      "execution_count": 80,
      "outputs": [
        {
          "output_type": "display_data",
          "data": {
            "text/plain": [
              "<Figure size 500x500 with 1 Axes>"
            ],
            "image/png": "[encoded data removed]"
          },
          "metadata": {}
        }
      ]
    },
    {
      "cell_type": "code",
      "source": [
        "Spot_color=df_final_manual['SpotColor'].value_counts()\n",
        "Spot_color.plot.pie(y='SpotColor', autopct=\"%.2f%%\", figsize=(5, 5),ylabel='',title='Distribution selon la couleur des points')\n",
        "plt.show()"
      ],
      "metadata": {
        "colab": {
          "base_uri": "https://localhost:8080/",
          "height": 444
        },
        "id": "Af6iqFj3LSmD",
        "outputId": "6585c0ef-5e6b-429a-9db9-27bb6fb99b75"
      },
      "execution_count": 81,
      "outputs": [
        {
          "output_type": "display_data",
          "data": {
            "text/plain": [
              "<Figure size 500x500 with 1 Axes>"
            ],
            "image/png": "[encoded data removed]"
          },
          "metadata": {}
        }
      ]
    },
    {
      "cell_type": "code",
      "source": [
        "\n",
        "\n",
        "# Histogramme du nbre de personne morts / qui ont survécu en fonction de la classe de leurs cabines\n",
        "Asiat = df_final_manual[df_final_manual['Label'] == 1]['ElytraColor'].value_counts()\n",
        "Europe = df_final_manual[df_final_manual['Label'] == 0]['ElytraColor'].value_counts()\n",
        "elytra_color_df = pd.DataFrame({'Type Asiat': Asiat, 'Type Europe': Europe})\n",
        "elytra_color_df.plot(kind='bar', stacked=True)\n",
        "plt.title(\"Répartition de la couleur sur l'élytra des coccinnelles selon leur type\")\n",
        "plt.xlabel(\"Couleur de l'élytra\")\n",
        "plt.ylabel(\"Count\")\n",
        "plt.show()\n"
      ],
      "metadata": {
        "colab": {
          "base_uri": "https://localhost:8080/",
          "height": 510
        },
        "id": "kZoR2P1uLX8Q",
        "outputId": "6c969345-2eda-412c-a97d-011de5456101"
      },
      "execution_count": 82,
      "outputs": [
        {
          "output_type": "display_data",
          "data": {
            "text/plain": [
              "<Figure size 640x480 with 1 Axes>"
            ],
            "image/png": "[encoded data removed]"
          },
          "metadata": {}
        }
      ]
    },
    {
      "cell_type": "code",
      "source": [
        "\n",
        "\n",
        "# Histogramme du nbre de personne morts / qui ont survécu en fonction de la classe de leurs cabines\n",
        "Asiat = df_final_manual[df_final_manual['Label'] == 1]['SpotColor'].value_counts()\n",
        "Europe = df_final_manual[df_final_manual['Label'] == 0]['SpotColor'].value_counts()\n",
        "spot_color_df = pd.DataFrame({'Type Asiat': Asiat, 'Type Europe': Europe})\n",
        "spot_color_df.plot(kind='bar', stacked=True)\n",
        "plt.title(\"Répartition de la couleur du point des coccinnelles selon leur type\")\n",
        "plt.xlabel(\"Couleur du point\")\n",
        "plt.ylabel(\"Count\")\n",
        "plt.show()\n"
      ],
      "metadata": {
        "colab": {
          "base_uri": "https://localhost:8080/",
          "height": 510
        },
        "id": "c0PPDhNWLZ72",
        "outputId": "ca9215d4-a6ea-4f33-fe79-92b0c936e3a6"
      },
      "execution_count": 83,
      "outputs": [
        {
          "output_type": "display_data",
          "data": {
            "text/plain": [
              "<Figure size 640x480 with 1 Axes>"
            ],
            "image/png": "[encoded data removed]"
          },
          "metadata": {}
        }
      ]
    },
    {
      "cell_type": "code",
      "source": [
        "palette = dict(Black=\"#000000\", Red=\"#FA3626\", Orange=\"#FAB326\", Yellow=\"#FFFF61\")\n",
        "\n",
        "\n",
        "fig, axes = plt.subplots(2,2, figsize=(21,15))\n",
        "sns.countplot(data=df_final_manual, ax=axes[0][0], x=\"ElytraColor\",palette=palette ).set(title=\"Histogramme du nombre de coccinelle selon la couleur de l'Élytre de la coccinelle\")\n",
        "sns.countplot(data=df_final_manual, ax=axes[0][1], x=\"SpotColor\", palette=palette).set(title='Histogramme du nombre de coccinelle selon la couleur du point de la coccinelle')\n",
        "sns.countplot(data=df_final_manual, ax=axes[1][0], x=\"Class\", hue = \"ElytraColor\", palette=palette).set(title='Histogramme de coccinelle (et la couleur de son Élytre) selon la classe du coccinelle')\n",
        "sns.countplot(data=df_final_manual, ax=axes[1][1], x=\"Class\",hue = \"SpotColor\", palette = palette).set(title='Histogramme de coccinelle (et sa couleur) selon la classe du coccinelle')\n",
        "\n",
        "\n",
        "\n",
        "\n",
        "\n",
        "\n",
        "plt.show()"
      ],
      "metadata": {
        "colab": {
          "base_uri": "https://localhost:8080/",
          "height": 934
        },
        "id": "FIr0AerfLcIN",
        "outputId": "053244af-164f-4f6e-fce1-e8ea8a3ba402"
      },
      "execution_count": 84,
      "outputs": [
        {
          "output_type": "display_data",
          "data": {
            "text/plain": [
              "<Figure size 2100x1500 with 4 Axes>"
            ],
            "image/png": "[encoded data removed]"
          },
          "metadata": {}
        }
      ]
    },
    {
      "cell_type": "code",
      "source": [
        "palette = dict(Black=\"#000000\", Red=\"#FA3626\", Orange=\"#FAB326\", Yellow=\"#FFFF61\")\n",
        "\n",
        "\n",
        "fig, axes = plt.subplots(2,2, figsize=(21,15))\n",
        "sns.barplot(data=df_final_manual, ax=axes[0][0], x=\"ElytraColor\", y=\"Nbr_Spot\" ,palette=palette).set(title=\"Histogramme du nombre de point selon la couleur de l'Élytre de la coccinelle\")\n",
        "sns.barplot(data=df_final_manual, ax=axes[0][1], x=\"SpotColor\", y=\"Nbr_Spot\", palette=palette).set(title='Histogramme du nombre de point selon la couleur du point de la coccinelle')\n",
        "sns.barplot(data=df_final_manual, ax=axes[1][0], x=\"Class\", y=\"Nbr_Spot\", hue = \"ElytraColor\", palette=palette).set(title='Histogramme du nombre de point (et la couleur de son Élytre) selon la classe du coccinelle')\n",
        "sns.barplot(data=df_final_manual, ax=axes[1][1], x=\"Class\", y=\"Nbr_Spot\", hue = \"SpotColor\", palette = palette).set(title='Histogramme du nombre de point (et sa couleur) selon la classe du coccinelle')\n",
        "\n",
        "\n",
        "\n",
        "\n",
        "\n",
        "\n",
        "plt.show()"
      ],
      "metadata": {
        "colab": {
          "base_uri": "https://localhost:8080/",
          "height": 939
        },
        "id": "McA_JNw_LdwH",
        "outputId": "ebaf606f-f1dd-45fd-bba2-e6b0a5589d6b"
      },
      "execution_count": 85,
      "outputs": [
        {
          "output_type": "display_data",
          "data": {
            "text/plain": [
              "<Figure size 2100x1500 with 4 Axes>"
            ],
            "image/png": "[encoded data removed]"
          },
          "metadata": {}
        }
      ]
    },
    {
      "cell_type": "markdown",
      "source": [
        "Partie analyse des corrélations"
      ],
      "metadata": {
        "id": "oCP8J1Y0M5aJ"
      }
    },
    {
      "cell_type": "code",
      "source": [
        "def degree_of_freedom (df):\n",
        "    degf2 = (df.shape[0] - 1 ) * (df.shape[1] - 1)\n",
        "    return degf2\n",
        "    \n",
        "def cramer_v(df):\n",
        "    n = df.sum().sum()\n",
        "    chi2 = chi2_contingency(df, correction = False)[0]\n",
        "    res = np.sqrt(chi2 / (n*(min(df.shape)-1)))\n",
        "    return res\n"
      ],
      "metadata": {
        "id": "MPmAaNhPM7St"
      },
      "execution_count": 86,
      "outputs": []
    },
    {
      "cell_type": "code",
      "source": [
        "\n",
        "df_crosstab1 = pd.crosstab(df_final_manual['SpotInterval'], df_final_manual['Class'], rownames = ['Number of Spot'], colnames = ['Class'])\n",
        "\n",
        "\n",
        "\n",
        "print(f\"Il y a un total de {degree_of_freedom(df_crosstab1)} degrés de liberté\")\n",
        "df_crosstab1"
      ],
      "metadata": {
        "colab": {
          "base_uri": "https://localhost:8080/",
          "height": 224
        },
        "id": "4gfEiBjXM_bD",
        "outputId": "c1d06a75-9dc9-476c-ea66-9fa379295293"
      },
      "execution_count": 87,
      "outputs": [
        {
          "output_type": "stream",
          "name": "stdout",
          "text": [
            "Il y a un total de 3 degrés de liberté\n"
          ]
        },
        {
          "output_type": "execute_result",
          "data": {
            "text/plain": [
              "Class           Coccinella septempunctata  Harmonia axyridis\n",
              "Number of Spot                                              \n",
              "1-2                                     0                  4\n",
              "3-6                                    72                 18\n",
              "7                                      28                  1\n",
              "8+                                      0                 77"
            ],
            "text/html": [
              "\n",
              "  <div id=\"df-4039e569-5df5-412b-8981-df558faec705\">\n",
              "    <div class=\"colab-df-container\">\n",
              "      <div>\n",
              "<style scoped>\n",
              "    .dataframe tbody tr th:only-of-type {\n",
              "        vertical-align: middle;\n",
              "    }\n",
              "\n",
              "    .dataframe tbody tr th {\n",
              "        vertical-align: top;\n",
              "    }\n",
              "\n",
              "    .dataframe thead th {\n",
              "        text-align: right;\n",
              "    }\n",
              "</style>\n",
              "<table border=\"1\" class=\"dataframe\">\n",
              "  <thead>\n",
              "    <tr style=\"text-align: right;\">\n",
              "      <th>Class</th>\n",
              "      <th>Coccinella septempunctata</th>\n",
              "      <th>Harmonia axyridis</th>\n",
              "    </tr>\n",
              "    <tr>\n",
              "      <th>Number of Spot</th>\n",
              "      <th></th>\n",
              "      <th></th>\n",
              "    </tr>\n",
              "  </thead>\n",
              "  <tbody>\n",
              "    <tr>\n",
              "      <th>1-2</th>\n",
              "      <td>0</td>\n",
              "      <td>4</td>\n",
              "    </tr>\n",
              "    <tr>\n",
              "      <th>3-6</th>\n",
              "      <td>72</td>\n",
              "      <td>18</td>\n",
              "    </tr>\n",
              "    <tr>\n",
              "      <th>7</th>\n",
              "      <td>28</td>\n",
              "      <td>1</td>\n",
              "    </tr>\n",
              "    <tr>\n",
              "      <th>8+</th>\n",
              "      <td>0</td>\n",
              "      <td>77</td>\n",
              "    </tr>\n",
              "  </tbody>\n",
              "</table>\n",
              "</div>\n",
              "      <button class=\"colab-df-convert\" onclick=\"convertToInteractive('df-4039e569-5df5-412b-8981-df558faec705')\"\n",
              "              title=\"Convert this dataframe to an interactive table.\"\n",
              "              style=\"display:none;\">\n",
              "        \n",
              "  <svg xmlns=\"http://www.w3.org/2000/svg\" height=\"24px\"viewBox=\"0 0 24 24\"\n",
              "       width=\"24px\">\n",
              "    <path d=\"M0 0h24v24H0V0z\" fill=\"none\"/>\n",
              "    <path d=\"M18.56 5.44l.94 2.06.94-2.06 2.06-.94-2.06-.94-.94-2.06-.94 2.06-2.06.94zm-11 1L8.5 8.5l.94-2.06 2.06-.94-2.06-.94L8.5 2.5l-.94 2.06-2.06.94zm10 10l.94 2.06.94-2.06 2.06-.94-2.06-.94-.94-2.06-.94 2.06-2.06.94z\"/><path d=\"M17.41 7.96l-1.37-1.37c-.4-.4-.92-.59-1.43-.59-.52 0-1.04.2-1.43.59L10.3 9.45l-7.72 7.72c-.78.78-.78 2.05 0 2.83L4 21.41c.39.39.9.59 1.41.59.51 0 1.02-.2 1.41-.59l7.78-7.78 2.81-2.81c.8-.78.8-2.07 0-2.86zM5.41 20L4 18.59l7.72-7.72 1.47 1.35L5.41 20z\"/>\n",
              "  </svg>\n",
              "      </button>\n",
              "      \n",
              "  <style>\n",
              "    .colab-df-container {\n",
              "      display:flex;\n",
              "      flex-wrap:wrap;\n",
              "      gap: 12px;\n",
              "    }\n",
              "\n",
              "    .colab-df-convert {\n",
              "      background-color: #E8F0FE;\n",
              "      border: none;\n",
              "      border-radius: 50%;\n",
              "      cursor: pointer;\n",
              "      display: none;\n",
              "      fill: #1967D2;\n",
              "      height: 32px;\n",
              "      padding: 0 0 0 0;\n",
              "      width: 32px;\n",
              "    }\n",
              "\n",
              "    .colab-df-convert:hover {\n",
              "      background-color: #E2EBFA;\n",
              "      box-shadow: 0px 1px 2px rgba(60, 64, 67, 0.3), 0px 1px 3px 1px rgba(60, 64, 67, 0.15);\n",
              "      fill: #174EA6;\n",
              "    }\n",
              "\n",
              "    [theme=dark] .colab-df-convert {\n",
              "      background-color: #3B4455;\n",
              "      fill: #D2E3FC;\n",
              "    }\n",
              "\n",
              "    [theme=dark] .colab-df-convert:hover {\n",
              "      background-color: #434B5C;\n",
              "      box-shadow: 0px 1px 3px 1px rgba(0, 0, 0, 0.15);\n",
              "      filter: drop-shadow(0px 1px 2px rgba(0, 0, 0, 0.3));\n",
              "      fill: #FFFFFF;\n",
              "    }\n",
              "  </style>\n",
              "\n",
              "      <script>\n",
              "        const buttonEl =\n",
              "          document.querySelector('#df-4039e569-5df5-412b-8981-df558faec705 button.colab-df-convert');\n",
              "        buttonEl.style.display =\n",
              "          google.colab.kernel.accessAllowed ? 'block' : 'none';\n",
              "\n",
              "        async function convertToInteractive(key) {\n",
              "          const element = document.querySelector('#df-4039e569-5df5-412b-8981-df558faec705');\n",
              "          const dataTable =\n",
              "            await google.colab.kernel.invokeFunction('convertToInteractive',\n",
              "                                                     [key], {});\n",
              "          if (!dataTable) return;\n",
              "\n",
              "          const docLinkHtml = 'Like what you see? Visit the ' +\n",
              "            '<a target=\"_blank\" href=https://colab.research.google.com/notebooks/data_table.ipynb>data table notebook</a>'\n",
              "            + ' to learn more about interactive tables.';\n",
              "          element.innerHTML = '';\n",
              "          dataTable['output_type'] = 'display_data';\n",
              "          await google.colab.output.renderOutput(dataTable, element);\n",
              "          const docLink = document.createElement('div');\n",
              "          docLink.innerHTML = docLinkHtml;\n",
              "          element.appendChild(docLink);\n",
              "        }\n",
              "      </script>\n",
              "    </div>\n",
              "  </div>\n",
              "  "
            ]
          },
          "metadata": {},
          "execution_count": 87
        }
      ]
    },
    {
      "cell_type": "code",
      "source": [
        "\n",
        "chi2, p, degf, ex = chi2_contingency(df_crosstab1)\n",
        "print(f\"Chi2 est égale à {chi2} \")\n",
        "print(f\"p-value : {p} \")\n",
        "print(f\"Le coefficient de Cramer donne {cramer_v(df_crosstab1)}\")\n",
        "    "
      ],
      "metadata": {
        "colab": {
          "base_uri": "https://localhost:8080/"
        },
        "id": "vBC993hDNCSI",
        "outputId": "8b3aaf67-c1e2-44b7-90c2-7091713dfaa7"
      },
      "execution_count": 88,
      "outputs": [
        {
          "output_type": "stream",
          "name": "stdout",
          "text": [
            "Chi2 est égale à 138.53793103448277 \n",
            "p-value : 7.810817742335135e-30 \n",
            "Le coefficient de Cramer donne 0.8322797938027895\n"
          ]
        }
      ]
    },
    {
      "cell_type": "markdown",
      "source": [
        "__Remarque__ : On rejète dans un premier temps l'hypothèse H0, on en déduit que les variables (Classe de la coccinelle et le nombre de point) ne sont pas indépendantes. De plus, comme le coefficient de Cramer est très important. On en conclut qu'il existe une relation de corrélation très significative entre les deux variables. Et qu'il sera possible de prédire l'une des variables par rapport à l'autre."
      ],
      "metadata": {
        "id": "XBVdF6UYN46P"
      }
    },
    {
      "cell_type": "code",
      "source": [
        "\n",
        "df_crosstab2 = pd.crosstab(df_final_manual['ElytraColor'], df_final_manual['Class'], rownames = ['ElytraColor'], colnames = ['Class'])\n",
        "\n",
        "\n",
        "print(f\"Il y a un total de {degree_of_freedom(df_crosstab2)} degrés de liberté\")\n",
        "df_crosstab2"
      ],
      "metadata": {
        "colab": {
          "base_uri": "https://localhost:8080/",
          "height": 224
        },
        "id": "Vq-kaie7NCpB",
        "outputId": "570470c5-fbab-4327-8d2f-ff4ead1d7442"
      },
      "execution_count": 89,
      "outputs": [
        {
          "output_type": "stream",
          "name": "stdout",
          "text": [
            "Il y a un total de 3 degrés de liberté\n"
          ]
        },
        {
          "output_type": "execute_result",
          "data": {
            "text/plain": [
              "Class        Coccinella septempunctata  Harmonia axyridis\n",
              "ElytraColor                                              \n",
              "Black                                0                 21\n",
              "Orange                              25                 39\n",
              "Red                                 73                 27\n",
              "Yellow                               2                 13"
            ],
            "text/html": [
              "\n",
              "  <div id=\"df-210140a1-9afa-4737-a98e-747816592dc5\">\n",
              "    <div class=\"colab-df-container\">\n",
              "      <div>\n",
              "<style scoped>\n",
              "    .dataframe tbody tr th:only-of-type {\n",
              "        vertical-align: middle;\n",
              "    }\n",
              "\n",
              "    .dataframe tbody tr th {\n",
              "        vertical-align: top;\n",
              "    }\n",
              "\n",
              "    .dataframe thead th {\n",
              "        text-align: right;\n",
              "    }\n",
              "</style>\n",
              "<table border=\"1\" class=\"dataframe\">\n",
              "  <thead>\n",
              "    <tr style=\"text-align: right;\">\n",
              "      <th>Class</th>\n",
              "      <th>Coccinella septempunctata</th>\n",
              "      <th>Harmonia axyridis</th>\n",
              "    </tr>\n",
              "    <tr>\n",
              "      <th>ElytraColor</th>\n",
              "      <th></th>\n",
              "      <th></th>\n",
              "    </tr>\n",
              "  </thead>\n",
              "  <tbody>\n",
              "    <tr>\n",
              "      <th>Black</th>\n",
              "      <td>0</td>\n",
              "      <td>21</td>\n",
              "    </tr>\n",
              "    <tr>\n",
              "      <th>Orange</th>\n",
              "      <td>25</td>\n",
              "      <td>39</td>\n",
              "    </tr>\n",
              "    <tr>\n",
              "      <th>Red</th>\n",
              "      <td>73</td>\n",
              "      <td>27</td>\n",
              "    </tr>\n",
              "    <tr>\n",
              "      <th>Yellow</th>\n",
              "      <td>2</td>\n",
              "      <td>13</td>\n",
              "    </tr>\n",
              "  </tbody>\n",
              "</table>\n",
              "</div>\n",
              "      <button class=\"colab-df-convert\" onclick=\"convertToInteractive('df-210140a1-9afa-4737-a98e-747816592dc5')\"\n",
              "              title=\"Convert this dataframe to an interactive table.\"\n",
              "              style=\"display:none;\">\n",
              "        \n",
              "  <svg xmlns=\"http://www.w3.org/2000/svg\" height=\"24px\"viewBox=\"0 0 24 24\"\n",
              "       width=\"24px\">\n",
              "    <path d=\"M0 0h24v24H0V0z\" fill=\"none\"/>\n",
              "    <path d=\"M18.56 5.44l.94 2.06.94-2.06 2.06-.94-2.06-.94-.94-2.06-.94 2.06-2.06.94zm-11 1L8.5 8.5l.94-2.06 2.06-.94-2.06-.94L8.5 2.5l-.94 2.06-2.06.94zm10 10l.94 2.06.94-2.06 2.06-.94-2.06-.94-.94-2.06-.94 2.06-2.06.94z\"/><path d=\"M17.41 7.96l-1.37-1.37c-.4-.4-.92-.59-1.43-.59-.52 0-1.04.2-1.43.59L10.3 9.45l-7.72 7.72c-.78.78-.78 2.05 0 2.83L4 21.41c.39.39.9.59 1.41.59.51 0 1.02-.2 1.41-.59l7.78-7.78 2.81-2.81c.8-.78.8-2.07 0-2.86zM5.41 20L4 18.59l7.72-7.72 1.47 1.35L5.41 20z\"/>\n",
              "  </svg>\n",
              "      </button>\n",
              "      \n",
              "  <style>\n",
              "    .colab-df-container {\n",
              "      display:flex;\n",
              "      flex-wrap:wrap;\n",
              "      gap: 12px;\n",
              "    }\n",
              "\n",
              "    .colab-df-convert {\n",
              "      background-color: #E8F0FE;\n",
              "      border: none;\n",
              "      border-radius: 50%;\n",
              "      cursor: pointer;\n",
              "      display: none;\n",
              "      fill: #1967D2;\n",
              "      height: 32px;\n",
              "      padding: 0 0 0 0;\n",
              "      width: 32px;\n",
              "    }\n",
              "\n",
              "    .colab-df-convert:hover {\n",
              "      background-color: #E2EBFA;\n",
              "      box-shadow: 0px 1px 2px rgba(60, 64, 67, 0.3), 0px 1px 3px 1px rgba(60, 64, 67, 0.15);\n",
              "      fill: #174EA6;\n",
              "    }\n",
              "\n",
              "    [theme=dark] .colab-df-convert {\n",
              "      background-color: #3B4455;\n",
              "      fill: #D2E3FC;\n",
              "    }\n",
              "\n",
              "    [theme=dark] .colab-df-convert:hover {\n",
              "      background-color: #434B5C;\n",
              "      box-shadow: 0px 1px 3px 1px rgba(0, 0, 0, 0.15);\n",
              "      filter: drop-shadow(0px 1px 2px rgba(0, 0, 0, 0.3));\n",
              "      fill: #FFFFFF;\n",
              "    }\n",
              "  </style>\n",
              "\n",
              "      <script>\n",
              "        const buttonEl =\n",
              "          document.querySelector('#df-210140a1-9afa-4737-a98e-747816592dc5 button.colab-df-convert');\n",
              "        buttonEl.style.display =\n",
              "          google.colab.kernel.accessAllowed ? 'block' : 'none';\n",
              "\n",
              "        async function convertToInteractive(key) {\n",
              "          const element = document.querySelector('#df-210140a1-9afa-4737-a98e-747816592dc5');\n",
              "          const dataTable =\n",
              "            await google.colab.kernel.invokeFunction('convertToInteractive',\n",
              "                                                     [key], {});\n",
              "          if (!dataTable) return;\n",
              "\n",
              "          const docLinkHtml = 'Like what you see? Visit the ' +\n",
              "            '<a target=\"_blank\" href=https://colab.research.google.com/notebooks/data_table.ipynb>data table notebook</a>'\n",
              "            + ' to learn more about interactive tables.';\n",
              "          element.innerHTML = '';\n",
              "          dataTable['output_type'] = 'display_data';\n",
              "          await google.colab.output.renderOutput(dataTable, element);\n",
              "          const docLink = document.createElement('div');\n",
              "          docLink.innerHTML = docLinkHtml;\n",
              "          element.appendChild(docLink);\n",
              "        }\n",
              "      </script>\n",
              "    </div>\n",
              "  </div>\n",
              "  "
            ]
          },
          "metadata": {},
          "execution_count": 89
        }
      ]
    },
    {
      "cell_type": "code",
      "source": [
        "\n",
        "chi2, p, degf, ex = chi2_contingency(df_crosstab2)\n",
        "print(f\"Chi2 est égale à {chi2} \")\n",
        "print(f\"p-value : {p} \")\n",
        "print(f\"Le coefficient de Cramer donne {cramer_v(df_crosstab2)}\")\n",
        "    "
      ],
      "metadata": {
        "colab": {
          "base_uri": "https://localhost:8080/"
        },
        "id": "fQV6IDZKNFTn",
        "outputId": "cad6f119-e6d0-4a07-d01d-49f5a40b4098"
      },
      "execution_count": 90,
      "outputs": [
        {
          "output_type": "stream",
          "name": "stdout",
          "text": [
            "Chi2 est égale à 53.28916666666667 \n",
            "p-value : 1.5907277768164958e-11 \n",
            "Le coefficient de Cramer donne 0.5161839142527916\n"
          ]
        }
      ]
    },
    {
      "cell_type": "markdown",
      "source": [
        "__Remarque__ : On rejète également l'hypothèse H0. On en déduit que la classe de la coccinelle et que la couleur des Élytres ne sont pas indépendantes. Par ailleurs, la coefficient de Cramer étant supérieur à 0.5. On peut considérer la relation de corrélation comme étant significatif également."
      ],
      "metadata": {
        "id": "Ymrf9EgKN38k"
      }
    },
    {
      "cell_type": "code",
      "source": [
        "\n",
        "df_crosstab3 = pd.crosstab(df_final_manual['SpotColor'], df_final_manual['Class'], rownames = ['SpotColor'], colnames = ['Class'])\n",
        "\n",
        "\n",
        "print(f\"Il y a un total de {degree_of_freedom(df_crosstab3)} degrés de liberté\")\n",
        "df_crosstab3"
      ],
      "metadata": {
        "colab": {
          "base_uri": "https://localhost:8080/",
          "height": 224
        },
        "id": "r2nYvvjlNG6K",
        "outputId": "5f1a77aa-a953-4e5a-b14c-d24f2c072345"
      },
      "execution_count": 91,
      "outputs": [
        {
          "output_type": "stream",
          "name": "stdout",
          "text": [
            "Il y a un total de 3 degrés de liberté\n"
          ]
        },
        {
          "output_type": "execute_result",
          "data": {
            "text/plain": [
              "Class      Coccinella septempunctata  Harmonia axyridis\n",
              "SpotColor                                              \n",
              "Black                            100                 79\n",
              "Orange                             0                  8\n",
              "Red                                0                 12\n",
              "Yellow                             0                  1"
            ],
            "text/html": [
              "\n",
              "  <div id=\"df-8036e52f-56a5-499e-91fa-98f86c1ff434\">\n",
              "    <div class=\"colab-df-container\">\n",
              "      <div>\n",
              "<style scoped>\n",
              "    .dataframe tbody tr th:only-of-type {\n",
              "        vertical-align: middle;\n",
              "    }\n",
              "\n",
              "    .dataframe tbody tr th {\n",
              "        vertical-align: top;\n",
              "    }\n",
              "\n",
              "    .dataframe thead th {\n",
              "        text-align: right;\n",
              "    }\n",
              "</style>\n",
              "<table border=\"1\" class=\"dataframe\">\n",
              "  <thead>\n",
              "    <tr style=\"text-align: right;\">\n",
              "      <th>Class</th>\n",
              "      <th>Coccinella septempunctata</th>\n",
              "      <th>Harmonia axyridis</th>\n",
              "    </tr>\n",
              "    <tr>\n",
              "      <th>SpotColor</th>\n",
              "      <th></th>\n",
              "      <th></th>\n",
              "    </tr>\n",
              "  </thead>\n",
              "  <tbody>\n",
              "    <tr>\n",
              "      <th>Black</th>\n",
              "      <td>100</td>\n",
              "      <td>79</td>\n",
              "    </tr>\n",
              "    <tr>\n",
              "      <th>Orange</th>\n",
              "      <td>0</td>\n",
              "      <td>8</td>\n",
              "    </tr>\n",
              "    <tr>\n",
              "      <th>Red</th>\n",
              "      <td>0</td>\n",
              "      <td>12</td>\n",
              "    </tr>\n",
              "    <tr>\n",
              "      <th>Yellow</th>\n",
              "      <td>0</td>\n",
              "      <td>1</td>\n",
              "    </tr>\n",
              "  </tbody>\n",
              "</table>\n",
              "</div>\n",
              "      <button class=\"colab-df-convert\" onclick=\"convertToInteractive('df-8036e52f-56a5-499e-91fa-98f86c1ff434')\"\n",
              "              title=\"Convert this dataframe to an interactive table.\"\n",
              "              style=\"display:none;\">\n",
              "        \n",
              "  <svg xmlns=\"http://www.w3.org/2000/svg\" height=\"24px\"viewBox=\"0 0 24 24\"\n",
              "       width=\"24px\">\n",
              "    <path d=\"M0 0h24v24H0V0z\" fill=\"none\"/>\n",
              "    <path d=\"M18.56 5.44l.94 2.06.94-2.06 2.06-.94-2.06-.94-.94-2.06-.94 2.06-2.06.94zm-11 1L8.5 8.5l.94-2.06 2.06-.94-2.06-.94L8.5 2.5l-.94 2.06-2.06.94zm10 10l.94 2.06.94-2.06 2.06-.94-2.06-.94-.94-2.06-.94 2.06-2.06.94z\"/><path d=\"M17.41 7.96l-1.37-1.37c-.4-.4-.92-.59-1.43-.59-.52 0-1.04.2-1.43.59L10.3 9.45l-7.72 7.72c-.78.78-.78 2.05 0 2.83L4 21.41c.39.39.9.59 1.41.59.51 0 1.02-.2 1.41-.59l7.78-7.78 2.81-2.81c.8-.78.8-2.07 0-2.86zM5.41 20L4 18.59l7.72-7.72 1.47 1.35L5.41 20z\"/>\n",
              "  </svg>\n",
              "      </button>\n",
              "      \n",
              "  <style>\n",
              "    .colab-df-container {\n",
              "      display:flex;\n",
              "      flex-wrap:wrap;\n",
              "      gap: 12px;\n",
              "    }\n",
              "\n",
              "    .colab-df-convert {\n",
              "      background-color: #E8F0FE;\n",
              "      border: none;\n",
              "      border-radius: 50%;\n",
              "      cursor: pointer;\n",
              "      display: none;\n",
              "      fill: #1967D2;\n",
              "      height: 32px;\n",
              "      padding: 0 0 0 0;\n",
              "      width: 32px;\n",
              "    }\n",
              "\n",
              "    .colab-df-convert:hover {\n",
              "      background-color: #E2EBFA;\n",
              "      box-shadow: 0px 1px 2px rgba(60, 64, 67, 0.3), 0px 1px 3px 1px rgba(60, 64, 67, 0.15);\n",
              "      fill: #174EA6;\n",
              "    }\n",
              "\n",
              "    [theme=dark] .colab-df-convert {\n",
              "      background-color: #3B4455;\n",
              "      fill: #D2E3FC;\n",
              "    }\n",
              "\n",
              "    [theme=dark] .colab-df-convert:hover {\n",
              "      background-color: #434B5C;\n",
              "      box-shadow: 0px 1px 3px 1px rgba(0, 0, 0, 0.15);\n",
              "      filter: drop-shadow(0px 1px 2px rgba(0, 0, 0, 0.3));\n",
              "      fill: #FFFFFF;\n",
              "    }\n",
              "  </style>\n",
              "\n",
              "      <script>\n",
              "        const buttonEl =\n",
              "          document.querySelector('#df-8036e52f-56a5-499e-91fa-98f86c1ff434 button.colab-df-convert');\n",
              "        buttonEl.style.display =\n",
              "          google.colab.kernel.accessAllowed ? 'block' : 'none';\n",
              "\n",
              "        async function convertToInteractive(key) {\n",
              "          const element = document.querySelector('#df-8036e52f-56a5-499e-91fa-98f86c1ff434');\n",
              "          const dataTable =\n",
              "            await google.colab.kernel.invokeFunction('convertToInteractive',\n",
              "                                                     [key], {});\n",
              "          if (!dataTable) return;\n",
              "\n",
              "          const docLinkHtml = 'Like what you see? Visit the ' +\n",
              "            '<a target=\"_blank\" href=https://colab.research.google.com/notebooks/data_table.ipynb>data table notebook</a>'\n",
              "            + ' to learn more about interactive tables.';\n",
              "          element.innerHTML = '';\n",
              "          dataTable['output_type'] = 'display_data';\n",
              "          await google.colab.output.renderOutput(dataTable, element);\n",
              "          const docLink = document.createElement('div');\n",
              "          docLink.innerHTML = docLinkHtml;\n",
              "          element.appendChild(docLink);\n",
              "        }\n",
              "      </script>\n",
              "    </div>\n",
              "  </div>\n",
              "  "
            ]
          },
          "metadata": {},
          "execution_count": 91
        }
      ]
    },
    {
      "cell_type": "code",
      "source": [
        "\n",
        "chi2, p, degf, ex = chi2_contingency(df_crosstab1)\n",
        "print(f\"Chi2 est égale à {chi2} \")\n",
        "print(f\"p-value : {p} \")\n",
        "print(f\"Le coefficient de Cramer donne {cramer_v(df_crosstab3)}\")\n",
        "    "
      ],
      "metadata": {
        "colab": {
          "base_uri": "https://localhost:8080/"
        },
        "id": "VfwazJUXNIMg",
        "outputId": "6a12a572-88d5-41a9-ae2a-9d3fcfda9cdd"
      },
      "execution_count": 92,
      "outputs": [
        {
          "output_type": "stream",
          "name": "stdout",
          "text": [
            "Chi2 est égale à 138.53793103448277 \n",
            "p-value : 7.810817742335135e-30 \n",
            "Le coefficient de Cramer donne 0.34251778896020857\n"
          ]
        }
      ]
    },
    {
      "cell_type": "markdown",
      "source": [
        "__Remarque__ : Ici l'hypothèse H0 est également rejeté. On en déduit que les variables \"*SpotColor*\" et \"*Class*\" ne sont pas indépendantes. Cela dit, étant donné que le coefficient de Cramer est inférieur à 0.5. Ainsi on ne peut pas évoquer de relation de corrélation entre ces deux variables, contrairement aux 2 cas précédents."
      ],
      "metadata": {
        "id": "1jhclDB9NPtA"
      }
    },
    {
      "cell_type": "markdown",
      "source": [
        "\n",
        "\n",
        "---\n",
        "\n"
      ],
      "metadata": {
        "id": "Cs8W6sV_ONgP"
      }
    },
    {
      "cell_type": "markdown",
      "source": [
        "## 1. Comptage des points"
      ],
      "metadata": {
        "id": "3bOsSdnj5wrE"
      }
    },
    {
      "cell_type": "markdown",
      "source": [
        "On prend en entrée les images segmentées => renvoie en sortie une liste \"*SpotCounting*\", et d’une liste \"*IndiceCircularité*\" (optionnel)"
      ],
      "metadata": {
        "id": "LShy1dmi9DuG"
      }
    },
    {
      "cell_type": "markdown",
      "source": [
        "## 2. Extraction de features (Couleur de l'Élytre, couleur du point)"
      ],
      "metadata": {
        "id": "yNCGsEYl51Hd"
      }
    },
    {
      "cell_type": "markdown",
      "source": [
        "On détermine la couleur de la carapace & du point : prend en entrée les images segmentées & images colorées => renvoie en sortie une liste \"*ElytraColor*\" contenant la couleur de la carapace, puis d’une liste \"*SpotColor*\" pour la couleur du point."
      ],
      "metadata": {
        "id": "CJywmlvl9J4n"
      }
    },
    {
      "cell_type": "markdown",
      "source": [
        "## 3. Data Exploration"
      ],
      "metadata": {
        "id": "_6kXR7II574y"
      }
    },
    {
      "cell_type": "markdown",
      "source": [
        "Construire un Dataframe avec notamment comme colonnes : \"*Image_ID\", \"SpotCounting\", \"ElytraColor\", \"SpotColor*\"\n",
        "\n",
        "\n",
        "Data exploration (corrélation entre les features, Data visualisation)"
      ],
      "metadata": {
        "id": "yz1IoBm_-J39"
      }
    },
    {
      "cell_type": "markdown",
      "source": [
        "## 4. Algorithme pour la classification"
      ],
      "metadata": {
        "id": "fqeBbvRI7min"
      }
    },
    {
      "cell_type": "markdown",
      "source": [
        "Appliquer notre algo pour déterminer la classe : application d’un arbre décisionnel en fonction de nos Features de chaque image => résultant à une colonne \"*Label*\" (qui renvoie 0: Europe 1 : Asiatique)"
      ],
      "metadata": {
        "id": "SM6rRFAY-SGA"
      }
    },
    {
      "cell_type": "markdown",
      "source": [
        "## 5. Récupération du CSV final"
      ],
      "metadata": {
        "id": "ufuGK1uC7uoD"
      }
    },
    {
      "cell_type": "markdown",
      "source": [
        "CSV type, Comparaison avec le DataFrame manuel"
      ],
      "metadata": {
        "id": "vxR4BRC4_LCj"
      }
    },
    {
      "cell_type": "markdown",
      "source": [
        "## 6. Évaluation de notre modèle"
      ],
      "metadata": {
        "id": "O3z3O-J7_EtG"
      }
    },
    {
      "cell_type": "markdown",
      "source": [
        "Entraînement de notre modèle ML & afficher les performances du modèle (Accuracy, F1 score, …)"
      ],
      "metadata": {
        "id": "1GJIcWsu_HS-"
      }
    },
    {
      "cell_type": "markdown",
      "source": [
        "\n",
        "\n",
        "---\n",
        "\n"
      ],
      "metadata": {
        "id": "EcNUhb4z_-o8"
      }
    },
    {
      "cell_type": "markdown",
      "source": [
        "# **Phase Test**"
      ],
      "metadata": {
        "id": "HotxRId7A19D"
      }
    },
    {
      "cell_type": "markdown",
      "source": [
        "## Comptage du nombre de point"
      ],
      "metadata": {
        "id": "Tg_6wPC-A_tx"
      }
    },
    {
      "cell_type": "markdown",
      "source": [
        "## Classification"
      ],
      "metadata": {
        "id": "wxnZVwn-A6zc"
      }
    },
    {
      "cell_type": "markdown",
      "source": [
        "## Performance finale"
      ],
      "metadata": {
        "id": "RbenP92qBBXR"
      }
    },
    {
      "cell_type": "markdown",
      "source": [
        "\n",
        "\n",
        "---\n",
        "\n"
      ],
      "metadata": {
        "id": "y9yYkJvsBIaf"
      }
    },
    {
      "cell_type": "markdown",
      "source": [
        "# **BONUS :** Une nouvelle approche (Deep Learning)"
      ],
      "metadata": {
        "id": "bVMNBBQj__ek"
      }
    }
  ]
}