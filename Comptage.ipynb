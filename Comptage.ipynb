{
  "nbformat": 4,
  "nbformat_minor": 0,
  "metadata": {
    "colab": {
      "private_outputs": true,
      "provenance": [],
      "gpuType": "T4",
      "include_colab_link": true
    },
    "kernelspec": {
      "name": "python3",
      "display_name": "Python 3"
    },
    "language_info": {
      "name": "python"
    },
    "accelerator": "GPU",
    "gpuClass": "standard"
  },
  "cells": [
    {
      "cell_type": "markdown",
      "metadata": {
        "id": "view-in-github",
        "colab_type": "text"
      },
      "source": [
        "<a href=\"https://colab.research.google.com/github/PuchToTalk/Ladybug_project/blob/spot-counting/Comptage.ipynb\" target=\"_parent\"><img src=\"https://colab.research.google.com/assets/colab-badge.svg\" alt=\"Open In Colab\"/></a>"
      ]
    },
    {
      "cell_type": "markdown",
      "source": [
        "# **Objectif** : Compter le nombre de points sur la coccinelle"
      ],
      "metadata": {
        "id": "uRy1foXBQEWj"
      }
    },
    {
      "cell_type": "markdown",
      "source": [
        "__**Explication du raisonnement :**__\n",
        "\n",
        "\n",
        "*   Je compte supprimer le fond de l'image (quel que soit sa couleur / l'environnement, en me basant sur le premier pixel de chaque image).\n",
        "*   De cette valeur, j'en créer un masque qui comporte toutes les zones ayant cette valeur de pixel.\n",
        "*   Masque qui sera ensuite appliqué sur notre image initiale (colorée)\n",
        "*   J'impose comme fond : la couleur blanche, pour que l'image (comportant uniquement notre coccinelle) soit plus simple à traiter par la suite : pour les clusters de couleur par ex\n",
        "\n",
        "\n",
        "\n"
      ],
      "metadata": {
        "id": "MGA9RhIhQLhF"
      }
    },
    {
      "cell_type": "markdown",
      "source": [
        "## 0 - Brouillon"
      ],
      "metadata": {
        "id": "UxiIsnW6Q4c5"
      }
    },
    {
      "cell_type": "code",
      "execution_count": null,
      "metadata": {
        "id": "m9h88xhjXPAe"
      },
      "outputs": [],
      "source": [
        "from google.colab.patches import cv2_imshow\n",
        "import matplotlib.pyplot as plt\n",
        "from PIL import Image\n",
        "import cv2\n",
        "import numpy as np\n",
        "\n",
        "\n",
        "# Charger l'image segmentée (en niveau de gris)\n",
        "\n",
        "\n",
        "image = Image.open('im-002_seg.png').convert(\"L\")\n",
        "\n",
        "width, height = image.size\n",
        "\n",
        "# Display the size\n",
        "print(f\"Initial image size: {width} x {height}\")\n",
        "\n",
        "# Define the desired size\n",
        "new_size = (150, 150)\n",
        "\n",
        "# Resize the image\n",
        "resized_image = image.resize(new_size)\n",
        "\n",
        "# Save the resized image to a file\n",
        "resized_image.save('resized_image.png')\n",
        "\n",
        "\n",
        "# Display the image using matplotlib\n",
        "plt.imshow(resized_image, cmap='Greys')\n",
        "plt.axis('off')  # Hide the axis\n",
        "\n",
        "plt.savefig('thresholded_image.png')\n",
        "\n"
      ]
    },
    {
      "cell_type": "code",
      "source": [
        "image_t = Image.open('thresholded_image.png')\n",
        "# Define the desired size\n",
        "new_size = (340, 340)\n",
        "\n",
        "# Resize the image\n",
        "resized_image = image_t.resize(new_size)\n",
        "\n",
        "# Save the resized image to a file\n",
        "resized_image.save('resized_image.png')\n",
        "\n",
        "\n",
        "# Display the resized image\n",
        "plt.imshow(image_t)\n",
        "plt.axis('off')\n",
        "plt.show()"
      ],
      "metadata": {
        "id": "8dTp7o4ZeDdL"
      },
      "execution_count": null,
      "outputs": []
    },
    {
      "cell_type": "code",
      "source": [
        "image_segmentee = np.array(image_t)\n",
        "\n",
        "# Seuillage pour extraire les pixels souhaités\n",
        "seuil_inf = 100  # Ajuster le seuil inférieur en fonction de vos données\n",
        "seuil_sup = 200  # Ajuster le seuil supérieur en fonction de vos données\n",
        "_, thresholded_image = cv2.threshold(image_segmentee, seuil_inf, seuil_sup, cv2.THRESH_BINARY)\n",
        "\n",
        "# Display the thresholded image using matplotlib\n",
        "plt.imshow(thresholded_image, cmap=\"gray\")\n",
        "plt.axis('off')  # Hide the axis\n"
      ],
      "metadata": {
        "id": "QiKxVRQchasX"
      },
      "execution_count": null,
      "outputs": []
    },
    {
      "cell_type": "code",
      "source": [
        "print(image_segmentee)"
      ],
      "metadata": {
        "id": "bmTlt4PEdA_D"
      },
      "execution_count": null,
      "outputs": []
    },
    {
      "cell_type": "markdown",
      "source": [
        "## **1 - Redimensionnement (150 x 150 px)**"
      ],
      "metadata": {
        "id": "P3Uajdxv9Cii"
      }
    },
    {
      "cell_type": "code",
      "source": [
        "import matplotlib.image as mpimg\n",
        "import os\n",
        "\n",
        "image_ini = []\n",
        "image_gris = []\n",
        "\n",
        "im_size = 150\n",
        "\n",
        "# Create the \"new seg\" folder if it doesn't exist\n",
        "folder_name = \"New_Image_Seg\"\n",
        "if not os.path.exists(folder_name):\n",
        "    os.makedirs(folder_name)\n",
        "\n",
        "folder_name2 = \"Resized_Image\"\n",
        "if not os.path.exists(folder_name2):\n",
        "    os.makedirs(folder_name2)\n",
        "\n",
        "for k in range(0, 201):\n",
        "    try:\n",
        "        image_ini.append(np.array(Image.open(fr\"im-{k:03}_im.png\").convert(\"RGB\").resize((im_size, im_size))))\n",
        "        image_gris.append(np.array(Image.open(fr\"im-{k:03}_seg.png\").convert(\"L\").resize((im_size, im_size))))\n",
        "        save_path = os.path.join(folder_name, fr\"im-{k:03}_new_seg.png\")\n",
        "        mpimg.imsave(save_path, image_gris[k-1], cmap=\"gray\") \n",
        "        save_path2 = os.path.join(folder_name2, fr\"im-{k:03}_im.png\")\n",
        "        mpimg.imsave(save_path2, image_ini[k-1])\n",
        "    except(IOError, OSError):\n",
        "        pass"
      ],
      "metadata": {
        "id": "nrcFYRC81aU0"
      },
      "execution_count": null,
      "outputs": []
    },
    {
      "cell_type": "code",
      "source": [
        "image_gris[4]"
      ],
      "metadata": {
        "id": "EkA9o5tZ2cVI"
      },
      "execution_count": null,
      "outputs": []
    },
    {
      "cell_type": "code",
      "source": [
        "for k in range(9):\n",
        "    ax = plt.subplot(3,3, k+1)\n",
        "    plt.imshow(image_gris[k], cmap =\"gray\")\n",
        "    plt.axis(\"off\")\n",
        "plt.show()"
      ],
      "metadata": {
        "id": "935kgK8h14w_"
      },
      "execution_count": null,
      "outputs": []
    },
    {
      "cell_type": "markdown",
      "source": [
        "150 x 150 px pour chaque image"
      ],
      "metadata": {
        "id": "rphFrT9-9Kfr"
      }
    },
    {
      "cell_type": "markdown",
      "source": [
        "## **2 - Normalisation (intensité des pixels de 0 à 1)**"
      ],
      "metadata": {
        "id": "txb7rA_G9Ygd"
      }
    },
    {
      "cell_type": "code",
      "source": [
        "image_ini = np.asarray(image_ini)\n",
        "image_gris = np.asarray(image_gris)"
      ],
      "metadata": {
        "id": "dFZSJoh_2TGi"
      },
      "execution_count": null,
      "outputs": []
    },
    {
      "cell_type": "code",
      "source": [
        "image_gris[2]"
      ],
      "metadata": {
        "id": "lb76w1up2T_t"
      },
      "execution_count": null,
      "outputs": []
    },
    {
      "cell_type": "code",
      "source": [
        "image_ini = np.array(image_ini)\n",
        "image_gris = np.array(image_gris)\n",
        "\n",
        "# Perform element-wise division by 255\n",
        "image_ini = image_ini / 255\n",
        "image_gris = image_gris / 255\n",
        "print(image_gris[2])\n",
        "# Convert the data type to 'float32'\n",
        "image_ini = image_ini.astype('float32')\n",
        "image_gris = image_gris.astype('float32')"
      ],
      "metadata": {
        "id": "VXCPyegv2FCU"
      },
      "execution_count": null,
      "outputs": []
    },
    {
      "cell_type": "code",
      "source": [
        "image_gris[2]"
      ],
      "metadata": {
        "id": "lt6gdH6M8Gym"
      },
      "execution_count": null,
      "outputs": []
    },
    {
      "cell_type": "markdown",
      "source": [
        "-----"
      ],
      "metadata": {
        "id": "cBV8ZP2e-wqD"
      }
    },
    {
      "cell_type": "code",
      "source": [
        "\n",
        "\n",
        "\n",
        "# Display the image using matplotlib\n",
        "plt.imshow(image_gris[2], cmap='Greys')\n",
        "plt.axis('off')  # Hide the axis\n",
        "\n",
        "plt.show()"
      ],
      "metadata": {
        "id": "nw_s5ADh8h6b"
      },
      "execution_count": null,
      "outputs": []
    },
    {
      "cell_type": "markdown",
      "source": [
        "## **3 - Seuillage (récupérer pixel de la carapace)**"
      ],
      "metadata": {
        "id": "Oll5tYrM-xit"
      }
    },
    {
      "cell_type": "code",
      "source": [
        "\n",
        "# Display the image using matplotlib\n",
        "plt.imshow(image_gris[2], cmap='Greys')\n",
        "plt.axis('off')  # Hide the axis\n",
        "\n",
        "plt.savefig('image_gris_4.png')\n"
      ],
      "metadata": {
        "id": "psQsRE4p_Gsv"
      },
      "execution_count": null,
      "outputs": []
    },
    {
      "cell_type": "code",
      "source": [
        "\n",
        "thresholded_image = cv2.imread('image_gris_4.png', cv2.IMREAD_GRAYSCALE)\n",
        "plt.imshow(thresholded_image, cmap='Greys')\n",
        "_, labels = cv2.connectedComponents(thresholded_image)\n",
        "\n",
        "# Count the number of spots (excluding the background)\n",
        "num_spots = np.max(labels) - 1\n",
        "\n",
        "# Print the number of spots\n",
        "print('Number of spots:', num_spots)"
      ],
      "metadata": {
        "id": "Yw1VWD0CGcIM"
      },
      "execution_count": null,
      "outputs": []
    },
    {
      "cell_type": "code",
      "source": [
        "image_segmentee = np.array(thresholded_image)\n",
        "\n",
        "# Seuillage pour extraire les pixels souhaités\n",
        "seuil_inf = 40  # Ajuster le seuil inférieur en fonction de vos données\n",
        "seuil_sup = 100  # Ajuster le seuil supérieur en fonction de vos données\n",
        "_, thresholded_image = cv2.threshold(image_segmentee, seuil_inf, seuil_sup, cv2.THRESH_BINARY)\n",
        "\n",
        "\n",
        "\n",
        "\n",
        "\n",
        "\n",
        "\n",
        "_, labels = cv2.connectedComponents(thresholded_image)\n",
        "\n",
        "# Count the number of spots (excluding the background)\n",
        "num_spots = np.max(labels) - 1\n",
        "\n",
        "# Display the thresholded image using matplotlib\n",
        "plt.imshow(thresholded_image, cmap=\"gray\")\n",
        "plt.axis('off')  # Hide the axis\n",
        "# Print the number of spots\n",
        "print('Number of spots:', num_spots)"
      ],
      "metadata": {
        "id": "3tLje49nG9Wk"
      },
      "execution_count": null,
      "outputs": []
    },
    {
      "cell_type": "markdown",
      "source": [
        "Detecter la coccinelle - Distinguer du fond"
      ],
      "metadata": {
        "id": "_iK3GlTsJAyt"
      }
    },
    {
      "cell_type": "code",
      "source": [
        "image_t = Image.open('image_gris_4.png')\n",
        "\n",
        "\n",
        "\n",
        "# Display the resized image\n",
        "plt.imshow(image_t)\n",
        "plt.axis('off')\n",
        "plt.show()"
      ],
      "metadata": {
        "id": "G3wrTH-r_vPC"
      },
      "execution_count": null,
      "outputs": []
    },
    {
      "cell_type": "code",
      "source": [
        "image_segmentee = np.array(image_t)\n",
        "\n",
        "# Seuillage pour extraire les pixels souhaités\n",
        "threshold_value = 250\n",
        "_, binary_mask = cv2.threshold(image_segmentee, threshold_value, 255, cv2.THRESH_BINARY)\n",
        "\n",
        "plt.imshow(binary_mask, cmap='gray')\n",
        "plt.axis('off')\n",
        "plt.show()\n",
        "plt.savefig('image_sans_fond.png')"
      ],
      "metadata": {
        "id": "slLiwT5W_mvQ"
      },
      "execution_count": null,
      "outputs": []
    },
    {
      "cell_type": "code",
      "source": [
        "import cv2\n",
        "import numpy as np\n",
        "from PIL import Image\n",
        "\n",
        "# Load the thresholded image\n",
        "thresholded_image = cv2.imread('image_sans_fond.png', cv2.IMREAD_GRAYSCALE)\n",
        "plt.imshow(thresholded_image, cmap='gray')\n",
        "# Apply connected component analysis\n",
        "_, labels = cv2.connectedComponents(thresholded_image)\n",
        "\n",
        "# Count the number of spots (excluding the background)\n",
        "num_spots = np.max(labels) - 1\n",
        "\n",
        "# Print the number of spots\n",
        "print('Number of spots:', num_spots)\n"
      ],
      "metadata": {
        "id": "5lu-L1zkFXIX"
      },
      "execution_count": null,
      "outputs": []
    },
    {
      "cell_type": "markdown",
      "source": [
        "## **4 - Suppression du fond arrière plan**"
      ],
      "metadata": {
        "id": "eMGwOMh3tIfh"
      }
    },
    {
      "cell_type": "markdown",
      "source": [
        "**Étape :** Création de notre masque en se basant sur le premier pixel de l'image"
      ],
      "metadata": {
        "id": "M9Ra56D9Phkf"
      }
    },
    {
      "cell_type": "code",
      "source": [
        "import cv2\n",
        "import numpy as np\n",
        "from google.colab.patches import cv2_imshow\n",
        "\n",
        "# Load the grayscale image\n",
        "image_gray = cv2.imread('New_Image_Seg/im-006_new_seg.png', cv2.IMREAD_GRAYSCALE)\n",
        "\n",
        "# Get the value of the first pixel\n",
        "first_pixel_value = image_gray[0, 0]\n",
        "\n",
        "# Create a mask with the same size as the image\n",
        "mask_cocci = np.zeros_like(image_gray)\n",
        "mask_fond = np.zeros_like(image_gray)\n",
        "# Set pixels with the same value as the first pixel to 255 in the mask\n",
        "mask_cocci[image_gray != first_pixel_value] = 255\n",
        "#cv2_imshow(mask_cocci)\n",
        "mask_fond[image_gray == first_pixel_value] = 255\n",
        "#cv2_imshow(mask_fond)\n",
        "\n",
        "# Apply the mask to the image\n",
        "image_result_fond = cv2.bitwise_and(image_gray, mask_fond)\n",
        "image_result_cocci = cv2.bitwise_and(image_gray, mask_cocci)\n",
        "\n",
        "# Display the original and resulting image using cv2_imshow()\n",
        "cv2_imshow(image_gray)\n",
        "cv2_imshow(image_result_cocci)\n"
      ],
      "metadata": {
        "id": "X9nP27zWycDv"
      },
      "execution_count": null,
      "outputs": []
    },
    {
      "cell_type": "code",
      "source": [
        "cv2_imshow(image_result_cocci)"
      ],
      "metadata": {
        "id": "1g6Bp5jzywZk"
      },
      "execution_count": null,
      "outputs": []
    },
    {
      "cell_type": "markdown",
      "source": [
        "**Application de notre masque sur notre image segmentée**"
      ],
      "metadata": {
        "id": "kWyj1XrSPKpo"
      }
    },
    {
      "cell_type": "code",
      "source": [
        "\n",
        "# Load the grayscale image\n",
        "image_six = cv2.imread('Resized_Image/im-006_im.png', cv2.IMREAD_GRAYSCALE)\n",
        "cv2_imshow(image_six)"
      ],
      "metadata": {
        "id": "XqU8MjRt1Zm1"
      },
      "execution_count": null,
      "outputs": []
    },
    {
      "cell_type": "code",
      "source": [
        "import cv2\n",
        "import numpy as np\n",
        "from google.colab.patches import cv2_imshow\n",
        "\n",
        "# Load the grayscale image\n",
        "image_gray = cv2.imread('New_Image_Seg/im-006_new_seg.png', cv2.IMREAD_GRAYSCALE)\n",
        "\n",
        "# Get the value of the first pixel\n",
        "first_pixel_value = image_gray[0, 0]\n",
        "\n",
        "# Create a mask with the same size as the image\n",
        "mask_cocci = np.zeros_like(image_gray)\n",
        "\n",
        "# Set pixels with the same value as the first pixel to 255 in the mask\n",
        "mask_cocci[image_gray != first_pixel_value] = 255\n",
        "#cv2_imshow(mask_cocci)\n",
        "cv2_imshow(mask_cocci)\n",
        "\n",
        "# Apply the mask to the image\n",
        "image_result_cocci = cv2.bitwise_and(image_six, mask_cocci)\n",
        "\n",
        "# Display the original and resulting image using cv2_imshow()\n",
        "cv2_imshow(image_gray)\n",
        "cv2_imshow(image_result_cocci)\n"
      ],
      "metadata": {
        "id": "gnZgN_CS17wx"
      },
      "execution_count": null,
      "outputs": []
    },
    {
      "cell_type": "markdown",
      "source": [
        "(facultatif) Ajout d'un fond blanc pour distinguer les différents points de la coccinelle"
      ],
      "metadata": {
        "id": "1LhwikLTPau8"
      }
    },
    {
      "cell_type": "code",
      "source": [
        "import cv2\n",
        "import numpy as np\n",
        "from google.colab.patches import cv2_imshow\n",
        "\n",
        "\n",
        "# Get the value of the first pixel as the background pixel value\n",
        "background_pixel_value = image_result_cocci[0, 0]\n",
        "\n",
        "# Create a mask for the background pixels\n",
        "background_mask = (image_result_cocci == background_pixel_value)\n",
        "\n",
        "# Set the background pixels to 255\n",
        "image_result_cocci[background_mask] = 255\n",
        "\n",
        "# Display the resulting image\n",
        "cv2_imshow(image_result_cocci)\n"
      ],
      "metadata": {
        "id": "CwJpCnSg0bri"
      },
      "execution_count": null,
      "outputs": []
    },
    {
      "cell_type": "markdown",
      "source": [
        "**Application de notre masque sur notre image colorée**"
      ],
      "metadata": {
        "id": "w6HjnIsSPX_7"
      }
    },
    {
      "cell_type": "code",
      "source": [
        "\n",
        "# Load the grayscale image\n",
        "image_six_colored = cv2.imread('Resized_Image/im-006_im.png', cv2.IMREAD_COLOR)\n",
        "cv2_imshow(image_six_colored)"
      ],
      "metadata": {
        "id": "UqYcJ6AaKLdQ"
      },
      "execution_count": null,
      "outputs": []
    },
    {
      "cell_type": "code",
      "source": [
        "import cv2\n",
        "import numpy as np\n",
        "from google.colab.patches import cv2_imshow\n",
        "\n",
        "# Load the RGB colored image\n",
        "image_rgb = cv2.imread('Resized_Image/im-006_im.png', cv2.IMREAD_COLOR)\n",
        "\n",
        "# Get the value of the first pixel from the grayscale image\n",
        "image_gray = cv2.imread('New_Image_Seg/im-006_new_seg.png', cv2.IMREAD_GRAYSCALE)\n",
        "first_pixel_value = image_gray[0, 0]\n",
        "\n",
        "# Create a mask with the same size as the RGB image\n",
        "mask_cocci = np.zeros_like(image_rgb[:, :, 0])  # Create mask with the same width and height as the RGB image\n",
        "\n",
        "# Set pixels with the same value as the first pixel to 255 in the mask\n",
        "mask_cocci[image_gray != first_pixel_value] = 255\n",
        "\n",
        "# Apply the mask to each channel of the RGB image\n",
        "image_result_cocci = cv2.bitwise_and(image_rgb, image_rgb, mask=mask_cocci)\n",
        "\n",
        "# Display the original RGB image and the resulting image using cv2_imshow()\n",
        "cv2_imshow(image_rgb)\n",
        "cv2_imshow(image_result_cocci)\n"
      ],
      "metadata": {
        "id": "iiJhk2qZKRvW"
      },
      "execution_count": null,
      "outputs": []
    },
    {
      "cell_type": "code",
      "source": [
        "background_pixel_value = image_result_cocci[0, 0]\n",
        "\n",
        "# Create a mask for the background pixels\n",
        "background_mask = (image_result_cocci == background_pixel_value)\n",
        "\n",
        "# Set the background pixels to 255\n",
        "image_result_cocci[background_mask] = 255\n",
        "\n",
        "# Display the resulting image\n",
        "cv2_imshow(image_result_cocci)"
      ],
      "metadata": {
        "id": "MGdlMzkANg59"
      },
      "execution_count": null,
      "outputs": []
    },
    {
      "cell_type": "markdown",
      "source": [
        "Remarques: des rayons bleus apparaissent (dû aux paramètres du masque sûrement) "
      ],
      "metadata": {
        "id": "EIdJGStrPsTN"
      }
    },
    {
      "cell_type": "markdown",
      "source": [
        "---\n",
        "\n",
        "\n"
      ],
      "metadata": {
        "id": "BfrnEoeoP2J7"
      }
    },
    {
      "cell_type": "markdown",
      "source": [
        "Stocker les images sans fond dans un nouveau dossier"
      ],
      "metadata": {
        "id": "CDA4ESGYP5eJ"
      }
    },
    {
      "cell_type": "code",
      "source": [
        "\n",
        "\n",
        "folder_name3 = \"No_Background_Image\"\n",
        "if not os.path.exists(folder_name3):\n",
        "    os.makedirs(folder_name3)\n",
        "\n",
        "for k in range(0, 201):\n",
        "    try:\n",
        "        # Load the RGB colored image\n",
        "        image_rgb = cv2.imread(f'Resized_Image/im-{k:03}_im.png', cv2.IMREAD_COLOR)\n",
        "\n",
        "        # Load the segmented grayscale image\n",
        "        image_gray = cv2.imread(f'New_Image_Seg/im-{k:03}_new_seg.png', cv2.IMREAD_GRAYSCALE)\n",
        "\n",
        "        # Check if image_gray is None (not loaded)\n",
        "        if image_gray is None:\n",
        "            raise Exception(f\"Failed to load image: New_Image_Seg/im-{k:03}_new_seg.png\")\n",
        "\n",
        "        # Get the value of the first pixel from the grayscale image\n",
        "        first_pixel_value = image_gray[0, 0]\n",
        "\n",
        "        # Create a mask with the same size as the RGB image\n",
        "        mask_cocci = np.zeros_like(image_rgb[:, :, 0])  # Create mask with the same width and height as the RGB image\n",
        "\n",
        "        # Set pixels with the same value as the first pixel to 255 in the mask\n",
        "        mask_cocci[image_gray != first_pixel_value] = 255\n",
        "\n",
        "        # Apply the mask to each channel of the RGB image\n",
        "        image_result_cocci = cv2.bitwise_and(image_rgb, image_rgb, mask=mask_cocci)\n",
        "\n",
        "        # Display the original RGB image and the resulting image using cv2_imshow()\n",
        "        #cv2_imshow(image_rgb)\n",
        "        #cv2_imshow(image_result_cocci)\n",
        "\n",
        "\n",
        "\n",
        "        background_pixel_value = image_result_cocci[0, 0]\n",
        "        background_mask = (image_result_cocci == background_pixel_value)\n",
        "        image_result_cocci[background_mask] = 255\n",
        "        #cv2_imshow(image_result_cocci)\n",
        "\n",
        "        save_path3 = os.path.join(folder_name3, fr\"im-{k:03}_im.png\")\n",
        "        #mpimg.imsave(save_path3, image_result_cocci) # cette méthode de save renvoie des images teints bleu\n",
        "        cv2.imwrite(save_path3, image_result_cocci) # cette méthode réduit l'effet lumière bleu en save\n",
        "\n",
        "\n",
        "\n",
        "\n",
        "    except Exception as e:\n",
        "        print(f\"Error processing image {k}: {e}\")\n"
      ],
      "metadata": {
        "id": "T7z-XK91P458"
      },
      "execution_count": null,
      "outputs": []
    },
    {
      "cell_type": "markdown",
      "source": [
        "# Prochaine étape : Clustering des couleurs ?"
      ],
      "metadata": {
        "id": "peOwGpLzRA-a"
      }
    },
    {
      "cell_type": "markdown",
      "source": [
        "-> déterminer la couleur de l'élytre (couleur majoritaire)\n",
        "\n",
        "-> \" couleur des tâches\n"
      ],
      "metadata": {
        "id": "eYVaDaK7a1cY"
      }
    },
    {
      "cell_type": "markdown",
      "source": [
        "## Reconnaissance de forme"
      ],
      "metadata": {
        "id": "AUrVbiXVa7_W"
      }
    },
    {
      "cell_type": "markdown",
      "source": [
        "-> Détecter les zones/régions\n",
        "\n",
        "-> Calcul du rayon de chaque région\n",
        "\n",
        "-> Déterminer si c'est une tâche (en posant un seuil : ex seuil = 0.6) oui (valeur > 0.6) /non (valeur < 0.6)\n",
        "\n"
      ],
      "metadata": {
        "id": "HANk4jLabAUb"
      }
    },
    {
      "cell_type": "code",
      "source": [
        "import numpy as np\n",
        "from skimage import io\n",
        "from skimage.measure import label, regionprops\n",
        "import matplotlib.pyplot as plt\n",
        "\n",
        "# Charger l'image\n",
        "image = io.imread('No_Background_Image/im-001_im.png', cv2.IMREAD_COLOR)\n",
        "#image = io.imread('Resized_Image/im-001_im.png', cv2.IMREAD_GRAYSCALE)\n",
        "plt.imshow(image, cmap='Greys')\n",
        "plt.axis('off')\n",
        "plt.show()\n",
        "\n",
        "# Segmenter l'image en régions\n",
        "labeled_image = label(image)\n",
        "plt.imshow(labeled_image, cmap='cool')\n",
        "plt.axis('off')\n",
        "plt.show()\n",
        "\n",
        "# Masquer le fond en excluant la plus grande région\n",
        "regions = regionprops(labeled_image)\n",
        "\n",
        "# Détecter les régions correspondant aux points\n",
        "point_regions = []\n",
        "for region in regionprops(labeled_image):\n",
        "    if region.area > 200 & region.area < 300:\n",
        "        point_regions.append(region.label)\n",
        "\n",
        "# Compter le nombre de points sur la coccinelle\n",
        "point_count = len(point_regions)\n",
        "\n",
        "# Afficher l'image avec les points mis en évidence\n",
        "plt.imshow(labeled_image, cmap='gray')\n",
        "for region in regionprops(labeled_image):\n",
        "    if region.label in point_regions:\n",
        "        minr, minc, maxr, maxc = region.bbox\n",
        "        rect = plt.Rectangle((minc, minr), maxc - minc, maxr - minr, fill=False, edgecolor='red', linewidth=2)\n",
        "        plt.gca().add_patch(rect)\n",
        "plt.axis('off')\n",
        "plt.show()\n",
        "\n",
        "# Afficher le nombre de points sur la coccinelle\n",
        "print(\"Nombre de points sur la coccinelle :\", point_count)"
      ],
      "metadata": {
        "id": "3XIdHbSVL67e"
      },
      "execution_count": null,
      "outputs": []
    },
    {
      "cell_type": "code",
      "source": [
        "import numpy as np\n",
        "from skimage import io\n",
        "from skimage.measure import label, regionprops\n",
        "import matplotlib.pyplot as plt\n",
        "\n",
        "\n",
        "\n",
        "\n",
        "folder_name4 = \"Bounding_box\"\n",
        "if not os.path.exists(folder_name4):\n",
        "    os.makedirs(folder_name4)\n",
        "\n",
        "for k in range(1, 11):\n",
        "  image = io.imread(f'im-{k:03}_seg.png')\n",
        "\n",
        "# Segmenter l'image en régions\n",
        "  labeled_image = label(image)\n",
        "\n",
        "# Masquer le fond en excluant la plus grande région\n",
        "  regions = regionprops(labeled_image)\n",
        "  background_area = 0\n",
        "  for region in regions:\n",
        "    if region.area > background_area:\n",
        "      background_area = region.area\n",
        "      background_label = region.label\n",
        "  labeled_image[labeled_image == background_label] = 0\n",
        "\n",
        "# Détecter les régions correspondant aux points\n",
        "  point_regions = []\n",
        "  for region in regionprops(labeled_image):\n",
        "    if region.area < 1500:\n",
        "      point_regions.append(region.label)\n",
        "\n",
        "# Compter le nombre de points sur la coccinelle\n",
        "  point_count = len(point_regions)\n",
        "\n",
        "# Afficher l'image avec les points mis en évidence\n",
        "  plt.imshow(labeled_image, cmap='gray')\n",
        "  for region in regionprops(labeled_image):\n",
        "    if region.label in point_regions:\n",
        "      minr, minc, maxr, maxc = region.bbox\n",
        "      rect = plt.Rectangle((minc, minr), maxc - minc, maxr - minr, fill=False, edgecolor='red', linewidth=2)\n",
        "      plt.gca().add_patch(rect)\n",
        "  plt.axis('off')\n",
        "  plt.show()\n",
        "\n",
        "# Afficher le nombre de points sur la coccinelle\n",
        "  print(\"Nombre de points sur la coccinelle :\", point_count)"
      ],
      "metadata": {
        "id": "fTq74twCIwgf"
      },
      "execution_count": null,
      "outputs": []
    },
    {
      "cell_type": "code",
      "source": [
        "import numpy as np\n",
        "from skimage import io\n",
        "from skimage.measure import label, regionprops\n",
        "import matplotlib.pyplot as plt\n",
        "\n",
        "def compute_circularity_indices(image_seg):\n",
        "    # Étiquetage des régions dans l'image\n",
        "    labeled_image = label(image_seg)\n",
        "\n",
        "    # Recherche de la région de fond (plus grande région)\n",
        "    background_area = 0\n",
        "    for region in regionprops(labeled_image):\n",
        "        if region.area > background_area:\n",
        "            background_area = region.area\n",
        "            background_label = region.label\n",
        "\n",
        "    # Masquage du fond en le mettant à zéro\n",
        "    labeled_image[labeled_image == background_label] = 0\n",
        "\n",
        "    # Détecter les régions correspondant aux points noirs\n",
        "    point_regions = []\n",
        "    for region in regionprops(labeled_image):\n",
        "        point_regions.append(region.label)\n",
        "\n",
        "    # Compter le nombre de points noirs sur la coccinelle\n",
        "    point_count = len(point_regions)\n",
        "\n",
        "    # Calcul des indices de circularité des régions\n",
        "    circularity_indices = []\n",
        "    for region in regionprops(labeled_image):\n",
        "        perimeter = region.perimeter\n",
        "        area = region.area\n",
        "        circularity = 4 * np.pi * (area / (perimeter ** 2))\n",
        "        circularity_indices.append(circularity)\n",
        "\n",
        "    return labeled_image, point_count, circularity_indices, point_regions\n",
        "\n",
        "# Chargement de l'image de segmentation\n",
        "image_seg = io.imread('im-001_seg.png')\n",
        "\n",
        "# Calcul des indices de circularité et récupération des résultats\n",
        "labeled_image, point_count, circularity_indices, point_regions = compute_circularity_indices(image_seg)\n",
        "\n",
        "# Définition du seuil pour la classification des points circulaires sur la carapace\n",
        "circularity_threshold = 0.8\n",
        "\n",
        "# Classification des points noirs en fonction de leur forme\n",
        "circular_points = []\n",
        "for region, circularity in zip(regionprops(labeled_image), circularity_indices):\n",
        "    if circularity > circularity_threshold and region.label in point_regions:\n",
        "        circular_points.append(region.label)\n",
        "\n",
        "# Affichage de l'image avec les points noirs circulaires sur la carapace mis en évidence\n",
        "plt.imshow(labeled_image, cmap='gray')\n",
        "for region in regionprops(labeled_image):\n",
        "    if region.label in circular_points:\n",
        "        minr, minc, maxr, maxc = region.bbox\n",
        "        rect = plt.Rectangle((minc, minr), maxc - minc, maxr - minr, fill=False, edgecolor='blue', linewidth=2)\n",
        "        plt.gca().add_patch(rect)\n",
        "plt.axis('off')\n",
        "plt.show()\n",
        "\n",
        "# Affichage du nombre de points noirs sur la coccinelle\n",
        "print(\"Nombre de points noirs sur la coccinelle :\", point_count)\n",
        "\n",
        "# Affichage des indices de circularité\n",
        "print(\"Indices de circularité :\", circularity_indices)\n",
        "\n",
        "# Affichage des points noirs circulaires sur la carapace\n",
        "print(\"Points noirs circulaires sur la carapace :\", circular_points)"
      ],
      "metadata": {
        "id": "TnvW9OHesUEl"
      },
      "execution_count": null,
      "outputs": []
    },
    {
      "cell_type": "code",
      "source": [
        "import numpy as np\n",
        "from skimage import io\n",
        "from skimage.measure import label, regionprops\n",
        "import matplotlib.pyplot as plt\n",
        "\n",
        "def compute_circularity_indices(image_seg):\n",
        "    # Étiquetage des régions dans l'image\n",
        "    labeled_image = label(image_seg)\n",
        "\n",
        "    # Recherche de la région de fond (plus grande région)\n",
        "    background_area = 0\n",
        "    for region in regionprops(labeled_image):\n",
        "        if region.area > background_area:\n",
        "            background_area = region.area\n",
        "            background_label = region.label\n",
        "\n",
        "    # Masquage du fond en le mettant à zéro\n",
        "    labeled_image[labeled_image == background_label] = 0\n",
        "\n",
        "    # Détecter les régions correspondant aux points noirs\n",
        "    point_regions = []\n",
        "    for region in regionprops(labeled_image):\n",
        "        point_regions.append(region.label)\n",
        "\n",
        "    # Compter le nombre de points noirs sur la coccinelle\n",
        "    point_count = len(point_regions)\n",
        "\n",
        "    # Calcul des indices de circularité des régions\n",
        "    circularity_indices = []\n",
        "    for region in regionprops(labeled_image):\n",
        "        perimeter = region.perimeter\n",
        "        area = region.area\n",
        "        circularity = 4 * np.pi * (area / (perimeter ** 2))\n",
        "        circularity_indices.append(circularity)\n",
        "\n",
        "    return labeled_image, point_count, circularity_indices, point_regions\n",
        "\n",
        "# Chargement de l'image de segmentation\n",
        "image_seg = io.imread('im-009_seg.png')\n",
        "\n",
        "# Calcul des indices de circularité et récupération des résultats\n",
        "labeled_image, point_count, circularity_indices, point_regions = compute_circularity_indices(image_seg)\n",
        "\n",
        "# Définition du seuil pour la classification des points circulaires sur la carapace\n",
        "circularity_threshold = 0.7\n",
        "\n",
        "# Classification des points noirs en fonction de leur forme\n",
        "circular_points = []\n",
        "for region, circularity in zip(regionprops(labeled_image), circularity_indices):\n",
        "    if circularity > circularity_threshold and region.label in point_regions:\n",
        "        circular_points.append(region.label)\n",
        "\n",
        "# Affichage de l'image avec les points noirs circulaires sur la carapace mis en évidence\n",
        "plt.imshow(labeled_image, cmap='gray')\n",
        "for region in regionprops(labeled_image):\n",
        "    if region.label in circular_points:\n",
        "        minr, minc, maxr, maxc = region.bbox\n",
        "        rect = plt.Rectangle((minc, minr), maxc - minc, maxr - minr, fill=False, edgecolor='blue', linewidth=2)\n",
        "        plt.gca().add_patch(rect)\n",
        "plt.axis('off')\n",
        "plt.show()\n",
        "\n",
        "# Affichage du nombre de points noirs sur la coccinelle\n",
        "print(\"Nombre de points noirs sur la coccinelle :\", point_count)\n",
        "\n",
        "# Affichage des indices de circularité\n",
        "print(\"Indices de circularité :\", circularity_indices)\n",
        "\n",
        "# Affichage des points noirs circulaires sur la carapace\n",
        "print(\"Points noirs circulaires sur la carapace :\", circular_points)"
      ],
      "metadata": {
        "id": "NS8uqyWmwgYV"
      },
      "execution_count": null,
      "outputs": []
    },
    {
      "cell_type": "code",
      "source": [
        "import numpy as np\n",
        "from skimage import io\n",
        "from skimage.measure import label, regionprops\n",
        "import matplotlib.pyplot as plt\n",
        "\n",
        "def compute_circularity_indices(image_seg):\n",
        "    # Étiquetage des régions dans l'image\n",
        "    labeled_image = label(image_seg)\n",
        "\n",
        "    # Recherche de la région de fond (plus grande région)\n",
        "    background_area = 0\n",
        "    for region in regionprops(labeled_image):\n",
        "        if region.area > background_area:\n",
        "            background_area = region.area\n",
        "            background_label = region.label\n",
        "\n",
        "    # Masquage du fond en le mettant à zéro\n",
        "    labeled_image[labeled_image == background_label] = 0\n",
        "\n",
        "    # Détecter les régions correspondant aux points noirs\n",
        "    point_regions = []\n",
        "    for region in regionprops(labeled_image):\n",
        "        point_regions.append(region.label)\n",
        "\n",
        "    # Compter le nombre de points noirs sur la coccinelle\n",
        "    point_count = len(point_regions)\n",
        "\n",
        "    # Calcul des indices de circularité des régions\n",
        "    circularity_indices = []\n",
        "    for region in regionprops(labeled_image):\n",
        "        perimeter = region.perimeter\n",
        "        area = region.area\n",
        "        circularity = 4 * np.pi * (area / (perimeter ** 2))\n",
        "        circularity_indices.append(circularity)\n",
        "\n",
        "    return labeled_image, point_count, circularity_indices, point_regions\n",
        "\n",
        "# Chargement de l'image de segmentation\n",
        "image_seg = io.imread('im-001_seg.png')\n",
        "\n",
        "# Calcul des indices de circularité et récupération des résultats\n",
        "labeled_image, point_count, circularity_indices, point_regions = compute_circularity_indices(image_seg)\n",
        "\n",
        "# Définition du seuil pour la classification des points circulaires sur la carapace\n",
        "circularity_threshold = 0.8\n",
        "\n",
        "# Classification des points noirs en fonction de leur forme\n",
        "circular_points = []\n",
        "for region, circularity in zip(regionprops(labeled_image), circularity_indices):\n",
        "    if circularity > circularity_threshold and region.label in point_regions:\n",
        "        circular_points.append(region.label)\n",
        "\n",
        "# Création d'un masque pour la carapace\n",
        "carapace_mask = labeled_image > 0\n",
        "\n",
        "# Exclusion des points noirs à l'intérieur de la carapace\n",
        "circular_points = [label for label in circular_points if np.any(carapace_mask[label])]\n",
        "\n",
        "# Affichage de l'image avec les points noirs circulaires sur la carapace mis en évidence\n",
        "plt.imshow(labeled_image, cmap='gray')\n",
        "for region in regionprops(labeled_image):\n",
        "    if region.label in circular_points:\n",
        "        minr, minc, maxr, maxc = region.bbox\n",
        "        rect = plt.Rectangle((minc, minr), maxc - minc, maxr - minr, fill=False, edgecolor='blue', linewidth=2)\n",
        "        plt.gca().add_patch(rect)\n",
        "plt.axis('off')\n",
        "plt.show()\n",
        "\n",
        "# Affichage du nombre de points noirs sur la coccinelle\n",
        "print(\"Nombre de points noirs sur la coccinelle :\", point_count)\n",
        "\n",
        "# Affichage des indices de circularité\n",
        "print(\"Indices de circularité :\", circularity_indices)\n",
        "\n",
        "# Affichage des points noirs circulaires sur la carapace\n",
        "print(\"Points noirs circulaires sur la carapace :\", circular_points)"
      ],
      "metadata": {
        "id": "dPnQOV3UxFWl"
      },
      "execution_count": null,
      "outputs": []
    },
    {
      "cell_type": "code",
      "source": [
        "import imageio\n",
        "import matplotlib.pyplot as plt\n",
        "import numpy as np\n",
        "from skimage.measure import regionprops\n",
        "from matplotlib.path import Path\n",
        "from scipy.spatial import ConvexHull\n",
        "import os\n",
        "from matplotlib.patches import Polygon\n",
        "\n",
        "def process_image2(image_path, seg_path):\n",
        "    im_seg = imageio.imread(seg_path)\n",
        "    im_orig = imageio.imread(image_path)\n",
        "\n",
        "    # Identify regions in the segmented image\n",
        "    regions = regionprops(im_seg)\n",
        "\n",
        "     # Sort regions by size, from largest to smallest\n",
        "    regions_sorted = sorted(regions, key=lambda r: r.area, reverse=True)\n",
        "\n",
        "\n",
        "    y, x = regions_sorted[1].coords[:, 0], regions_sorted[1].coords[:, 1]\n",
        "\n",
        "    # Calculate the convex hull of the region\n",
        "    points = np.column_stack((x, y))\n",
        "    hull = ConvexHull(points)\n",
        "\n",
        "    # Get the coordinates of the convex hull\n",
        "    hull_points = points[hull.vertices]\n",
        "    hull_y, hull_x = hull_points[:, 1], hull_points[:, 0]\n",
        "\n",
        "    # Create a patch from the convex hull coordinates\n",
        "    hull_patch = Polygon(hull_points, fill=None, edgecolor='green', linewidth=2)\n",
        "\n",
        "    # Create a figure and subplots\n",
        "    fig, (ax1, ax2) = plt.subplots(1, 2)\n",
        "    ax1.imshow(im_orig, cmap='gray')\n",
        "    ax1.axis('off')\n",
        "\n",
        "    ax2.imshow(im_seg)\n",
        "    ax2.axis('off')\n",
        "\n",
        "\n",
        "    # Display the convex hull on the segmented image\n",
        "    ax2.add_patch(hull_patch)        \n",
        "\n",
        "    # Exclude the background region\n",
        "    excluded_labels = [regions_sorted[0].label,regions_sorted[1].label]\n",
        "\n",
        "    num_regions = 0\n",
        "    for region in regions:\n",
        "        if region.label not in excluded_labels:  # Exclude specified regions\n",
        "            # Check if the region is completely within the convex hull\n",
        "            region_points = np.column_stack((region.coords[:, 1], region.coords[:, 0]))\n",
        "            if np.all(region_points[:, 0] >= hull_x.min()) and np.all(region_points[:, 0] <= hull_x.max()) and \\\n",
        "                np.all(region_points[:, 1] >= hull_y.min()) and np.all(region_points[:, 1] <= hull_y.max()):\n",
        "                y, x = region.coords[:, 0], region.coords[:, 1]\n",
        "\n",
        "                # Get the center coordinates of the region\n",
        "                region_y_center, region_x_center = region.centroid\n",
        "\n",
        "                # Display a point at the center of the region on the original image\n",
        "                ax1.plot(region_x_center, region_y_center, 'ro', markersize=4)\n",
        "                ax2.plot(region_x_center, region_y_center, 'ro', markersize=4)\n",
        "\n",
        "                # Add label to the region on the segmented image\n",
        "                ax2.text(region_x_center, region_y_center, f'Region {region.label}', color='red')\n",
        "\n",
        "                num_regions += 1\n",
        "            else:\n",
        "                # Add label to the region on the segmented image if it's not within the hull\n",
        "                region_y_center, region_x_center = region.centroid\n",
        "                ax2.text(region_x_center, region_y_center, f'Region {region.label}', color='blue')\n",
        "\n",
        "\n",
        "    ax1.set_title('Original Image with Region Labels and Convex Hull')\n",
        "    ax2.set_title('Segmented Image with Region Labels and Convex Hull')\n",
        "    plt.tight_layout()\n",
        "    plt.show()\n",
        "\n",
        "    print(\"Number of Regions:\", num_regions)\n",
        "\n",
        "# Chemin du répertoire contenant les images\n",
        "directory = '/content'\n",
        "\n",
        "# Chemin de l'image à traiter\n",
        "image_path = os.path.join(directory, 'im-001_im.png')\n",
        "seg_path = os.path.join(directory, 'im-001_seg.png')\n",
        "\n",
        "# Appeler la fonction pour traiter l'image\n",
        "process_image2(image_path, seg_path)"
      ],
      "metadata": {
        "id": "5thASVpt26fF"
      },
      "execution_count": null,
      "outputs": []
    },
    {
      "cell_type": "code",
      "source": [
        "import imageio\n",
        "import matplotlib.pyplot as plt\n",
        "import numpy as np\n",
        "from skimage.measure import regionprops\n",
        "from matplotlib.path import Path\n",
        "from scipy.spatial import ConvexHull\n",
        "import os\n",
        "from matplotlib.patches import Polygon\n",
        "\n",
        "def process_image2(image_path, seg_path):\n",
        "    im_seg = imageio.imread(seg_path)\n",
        "    im_orig = imageio.imread(image_path)\n",
        "\n",
        "    # Identify regions in the segmented image\n",
        "    regions = regionprops(im_seg)\n",
        "\n",
        "    # Sort regions by size, from largest to smallest\n",
        "    regions_sorted = sorted(regions, key=lambda r: r.area, reverse=True)\n",
        "\n",
        "    y, x = regions_sorted[1].coords[:, 0], regions_sorted[1].coords[:, 1]\n",
        "\n",
        "    # Calculate the convex hull of the region\n",
        "    points = np.column_stack((x, y))\n",
        "    hull = ConvexHull(points)\n",
        "\n",
        "    # Get the coordinates of the convex hull\n",
        "    hull_points = points[hull.vertices]\n",
        "    hull_y, hull_x = hull_points[:, 1], hull_points[:, 0]\n",
        "\n",
        "    # Create a patch from the convex hull coordinates\n",
        "    hull_patch = Polygon(hull_points, fill=None, edgecolor='green', linewidth=2)\n",
        "\n",
        "    # Create a figure and subplots\n",
        "    fig, (ax1, ax2) = plt.subplots(1, 2)\n",
        "    ax1.imshow(im_orig, cmap='gray')\n",
        "    ax1.axis('off')\n",
        "\n",
        "    ax2.imshow(im_seg)\n",
        "    ax2.axis('off')\n",
        "\n",
        "    # Display the convex hull on the segmented image\n",
        "    ax2.add_patch(hull_patch)\n",
        "\n",
        "    # Exclude the background region\n",
        "    excluded_labels = [regions_sorted[0].label, regions_sorted[1].label]\n",
        "\n",
        "    num_regions = 0\n",
        "    for region in regions:\n",
        "        if region.label not in excluded_labels:  # Exclude specified regions\n",
        "            # Check if the region is completely within the convex hull\n",
        "            region_points = np.column_stack((region.coords[:, 1], region.coords[:, 0]))\n",
        "            if np.all(region_points[:, 0] >= hull_x.min()) and np.all(region_points[:, 0] <= hull_x.max()) and \\\n",
        "                    np.all(region_points[:, 1] >= hull_y.min()) and np.all(region_points[:, 1] <= hull_y.max()):\n",
        "                y, x = region.coords[:, 0], region.coords[:, 1]\n",
        "\n",
        "                # Get the center coordinates of the region\n",
        "                region_y_center, region_x_center = region.centroid\n",
        "\n",
        "                # Display a point at the center of the region on the original image\n",
        "                ax1.plot(region_x_center, region_y_center, 'ro', markersize=4)\n",
        "                ax2.plot(region_x_center, region_y_center, 'ro', markersize=4)\n",
        "\n",
        "                # Add label to the region on the segmented image\n",
        "                ax2.text(region_x_center, region_y_center, f'Region {region.label}', color='red')\n",
        "\n",
        "                # Calculate circularity index\n",
        "                perimeter = region.perimeter\n",
        "                area = region.area\n",
        "                circularity_index = (4 * np.pi * area) / (perimeter ** 2)\n",
        "                print(f\"Circularity index of Region {region.label}: {circularity_index}\")\n",
        "\n",
        "                num_regions += 1\n",
        "            else:\n",
        "                # Add label to the region on the segmented image if it's not within the hull\n",
        "                region_y_center, region_x_center = region.centroid\n",
        "                ax2.text(region_x_center, region_y_center, f'Region {region.label}', color='blue')\n",
        "\n",
        "    ax1.set_title('Original Image with Region Labels and Convex Hull')\n",
        "    ax2.set_title('Segmented Image with Region Labels and Convex Hull')\n",
        "    plt.tight_layout()\n",
        "    plt.show()\n",
        "\n",
        "    print(\"Number of Regions:\", num_regions)\n",
        "\n",
        "# Chemin du répertoire contenant les images\n",
        "directory = '/content'\n",
        "\n",
        "# Chemin de l'image à traiter\n",
        "image_path = os.path.join(directory, 'im-001_im.png')\n",
        "seg_path = os.path.join(directory, 'im-001_seg.png')\n",
        "\n",
        "# Appeler la fonction pour traiter l'image\n",
        "process_image2(image_path, seg_path)\n"
      ],
      "metadata": {
        "id": "eY2tqVrR4Hrj"
      },
      "execution_count": null,
      "outputs": []
    },
    {
      "cell_type": "code",
      "source": [
        "import matplotlib.pyplot as plt\n",
        "import numpy as np\n",
        "from skimage.measure import regionprops\n",
        "import imageio.v2 as imageio\n",
        "from matplotlib.path import Path\n",
        "from scipy.spatial import ConvexHull\n",
        "import os\n",
        "from matplotlib.patches import Polygon\n",
        "\n",
        "def process_image2(image_path, seg_path, threshold):\n",
        "    im_seg = imageio.imread(seg_path)\n",
        "    im_orig = imageio.imread(image_path)\n",
        "\n",
        "    # Identify regions in the segmented image\n",
        "    regions = regionprops(im_seg)\n",
        "\n",
        "    # Sort regions by size, from largest to smallest\n",
        "    regions_sorted = sorted(regions, key=lambda r: r.area, reverse=True)\n",
        "\n",
        "    y, x = regions_sorted[1].coords[:, 0], regions_sorted[1].coords[:, 1]\n",
        "\n",
        "    # Calculate the convex hull of the region\n",
        "    points = np.column_stack((x, y))\n",
        "    hull = ConvexHull(points)\n",
        "\n",
        "    # Get the coordinates of the convex hull\n",
        "    hull_points = points[hull.vertices]\n",
        "    hull_y, hull_x = hull_points[:, 1], hull_points[:, 0]\n",
        "\n",
        "    # Create a patch from the convex hull coordinates\n",
        "    hull_patch = Polygon(hull_points, fill=None, edgecolor='green', linewidth=2)\n",
        "\n",
        "    # Create a figure and subplots\n",
        "    fig, (ax1, ax2) = plt.subplots(1, 2)\n",
        "    ax1.imshow(im_orig, cmap='gray')\n",
        "    ax1.axis('off')\n",
        "\n",
        "    ax2.imshow(im_seg)\n",
        "    ax2.axis('off')\n",
        "\n",
        "    # Display the convex hull on the segmented image\n",
        "    ax2.add_patch(hull_patch)\n",
        "\n",
        "    # Exclude the background region\n",
        "    excluded_labels = [regions_sorted[0].label, regions_sorted[1].label]\n",
        "\n",
        "    num_regions = 0\n",
        "    for region in regions:\n",
        "        if region.label not in excluded_labels:  # Exclude specified regions\n",
        "            # Check if the region is completely within the convex hull\n",
        "            region_points = np.column_stack((region.coords[:, 1], region.coords[:, 0]))\n",
        "            if np.all(region_points[:, 0] >= hull_x.min()) and np.all(region_points[:, 0] <= hull_x.max()) and \\\n",
        "                    np.all(region_points[:, 1] >= hull_y.min()) and np.all(region_points[:, 1] <= hull_y.max()):\n",
        "                y, x = region.coords[:, 0], region.coords[:, 1]\n",
        "\n",
        "                # Get the center coordinates of the region\n",
        "                region_y_center, region_x_center = region.centroid\n",
        "\n",
        "                # Display a point at the center of the region on the original image\n",
        "                ax1.plot(region_x_center, region_y_center, 'ro', markersize=4)\n",
        "                ax2.plot(region_x_center, region_y_center, 'ro', markersize=4)\n",
        "\n",
        "                # Calculate circularity index\n",
        "                perimeter = region.perimeter\n",
        "                area = region.area\n",
        "                circularity_index = (4 * np.pi * area) / (perimeter ** 2)\n",
        "\n",
        "                if circularity_index > threshold:\n",
        "                    print(f\"Circularity index of Region {region.label}: {circularity_index}\")\n",
        "\n",
        "                num_regions += 1\n",
        "            else:\n",
        "                # Add label to the region on the segmented image if it's not within the hull\n",
        "                region_y_center, region_x_center = region.centroid\n",
        "                ax2.text(region_x_center, region_y_center, f'Region {region.label}', color='blue')\n",
        "\n",
        "    ax1.set_title('Original Image with Region Labels and Convex Hull')\n",
        "    ax2.set_title('Segmented Image with Region Labels and Convex Hull')\n",
        "    plt.tight_layout()\n",
        "    plt.show()\n",
        "\n",
        "    print(\"Number of Regions:\", num_regions)\n",
        "\n",
        "\n",
        "# Directory path containing the images\n",
        "directory = '/content'\n",
        "\n",
        "# Image paths\n",
        "image_path = os.path.join(directory, 'im-002_im.png')\n",
        "seg_path = os.path.join(directory, 'im-002_seg.png')\n",
        "\n",
        "# Threshold for circularity index\n",
        "threshold = 0.8\n",
        "\n",
        "# Call the function to process the image\n",
        "process_image2(image_path, seg_path, threshold)"
      ],
      "metadata": {
        "id": "S94SIhq95AKd"
      },
      "execution_count": null,
      "outputs": []
    },
    {
      "cell_type": "code",
      "source": [
        "import imageio\n",
        "import matplotlib.pyplot as plt\n",
        "import numpy as np\n",
        "from skimage.measure import label, regionprops\n",
        "\n",
        "# Charger l'image segmentée\n",
        "im_seg = imageio.imread(\"/content/im-001_seg.png\")\n",
        "\n",
        "# Identifier les régions dans l'image segmentée\n",
        "label_image = label(im_seg)\n",
        "regions = regionprops(label_image)\n",
        "\n",
        "# Trier les régions par taille, de la plus grande à la plus petite\n",
        "regions_sorted = sorted(regions, key=lambda r: r.area, reverse=True)\n",
        "\n",
        "# Exclure les deux plus grandes régions\n",
        "if len(regions_sorted) >= 2:\n",
        "    excluded_regions = [regions_sorted[0], regions_sorted[1]]\n",
        "    for region in excluded_regions:\n",
        "        label_image[label_image == region.label] = 0\n",
        "\n",
        "\n",
        "# Binarisation de l'image en utilisant un seuil\n",
        "threshold = 0  # Seuil pour binariser l'image (0 correspond au noir)\n",
        "im_binary = np.where(label_image > threshold, 255, 0)\n",
        "\n",
        "\n",
        "# Afficher l'image segmentée avec les deux plus grandes régions exclues\n",
        "fig, ax = plt.subplots()\n",
        "ax.imshow(im_binary, cmap='gray')\n",
        "ax.axis('off')\n",
        "plt.show()"
      ],
      "metadata": {
        "id": "CCDBX8UwLoQj"
      },
      "execution_count": null,
      "outputs": []
    },
    {
      "cell_type": "markdown",
      "source": [
        "##Test ML\n",
        "\n",
        "On va importer nos features dans un premier temps ensuite on rajoute l'indice de circularité qui est un feature très intéressant. "
      ],
      "metadata": {
        "id": "h_YJ2F1gCVkQ"
      }
    },
    {
      "cell_type": "markdown",
      "source": [
        "On peut calculer l'indice de circularité de chaque image et les mettre dans notre fichier csv à la fin. "
      ],
      "metadata": {
        "id": "ns23KRLZDDZS"
      }
    }
  ]
}