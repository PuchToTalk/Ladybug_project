{
  "nbformat": 4,
  "nbformat_minor": 0,
  "metadata": {
    "colab": {
      "private_outputs": true,
      "provenance": [],
      "gpuType": "T4",
      "authorship_tag": "ABX9TyOSCCc9pMi8lEsdUIDS0PIq",
      "include_colab_link": true
    },
    "kernelspec": {
      "name": "python3",
      "display_name": "Python 3"
    },
    "language_info": {
      "name": "python"
    },
    "accelerator": "GPU",
    "gpuClass": "standard"
  },
  "cells": [
    {
      "cell_type": "markdown",
      "metadata": {
        "id": "view-in-github",
        "colab_type": "text"
      },
      "source": [
        "<a href=\"https://colab.research.google.com/github/PuchToTalk/Ladybug_project/blob/comptage/Comptage.ipynb\" target=\"_parent\"><img src=\"https://colab.research.google.com/assets/colab-badge.svg\" alt=\"Open In Colab\"/></a>"
      ]
    },
    {
      "cell_type": "code",
      "execution_count": null,
      "metadata": {
        "id": "m9h88xhjXPAe"
      },
      "outputs": [],
      "source": [
        "from google.colab.patches import cv2_imshow\n",
        "import matplotlib.pyplot as plt\n",
        "from PIL import Image\n",
        "import cv2\n",
        "import numpy as np\n",
        "\n",
        "\n",
        "# Charger l'image segmentée (en niveau de gris)\n",
        "\n",
        "\n",
        "image = Image.open('im-002_seg.png').convert(\"L\")\n",
        "\n",
        "width, height = image.size\n",
        "\n",
        "# Display the size\n",
        "print(f\"Initial image size: {width} x {height}\")\n",
        "\n",
        "# Define the desired size\n",
        "new_size = (150, 150)\n",
        "\n",
        "# Resize the image\n",
        "resized_image = image.resize(new_size)\n",
        "\n",
        "# Save the resized image to a file\n",
        "resized_image.save('resized_image.png')\n",
        "\n",
        "\n",
        "# Display the image using matplotlib\n",
        "plt.imshow(resized_image, cmap='Greys')\n",
        "plt.axis('off')  # Hide the axis\n",
        "\n",
        "plt.savefig('thresholded_image.png')\n",
        "\n"
      ]
    },
    {
      "cell_type": "code",
      "source": [
        "image_t = Image.open('thresholded_image.png')\n",
        "# Define the desired size\n",
        "new_size = (340, 340)\n",
        "\n",
        "# Resize the image\n",
        "resized_image = image_t.resize(new_size)\n",
        "\n",
        "# Save the resized image to a file\n",
        "resized_image.save('resized_image.png')\n",
        "\n",
        "\n",
        "# Display the resized image\n",
        "plt.imshow(image_t)\n",
        "plt.axis('off')\n",
        "plt.show()"
      ],
      "metadata": {
        "id": "8dTp7o4ZeDdL"
      },
      "execution_count": null,
      "outputs": []
    },
    {
      "cell_type": "code",
      "source": [
        "image_segmentee = np.array(image_t)\n",
        "\n",
        "# Seuillage pour extraire les pixels souhaités\n",
        "seuil_inf = 100  # Ajuster le seuil inférieur en fonction de vos données\n",
        "seuil_sup = 200  # Ajuster le seuil supérieur en fonction de vos données\n",
        "_, thresholded_image = cv2.threshold(image_segmentee, seuil_inf, seuil_sup, cv2.THRESH_BINARY)\n",
        "\n",
        "# Display the thresholded image using matplotlib\n",
        "plt.imshow(thresholded_image, cmap=\"gray\")\n",
        "plt.axis('off')  # Hide the axis\n"
      ],
      "metadata": {
        "id": "QiKxVRQchasX"
      },
      "execution_count": null,
      "outputs": []
    },
    {
      "cell_type": "code",
      "source": [
        "print(image_segmentee)"
      ],
      "metadata": {
        "id": "bmTlt4PEdA_D"
      },
      "execution_count": null,
      "outputs": []
    },
    {
      "cell_type": "markdown",
      "source": [
        "# 1 - Redimensionnement (150 x 150 px)"
      ],
      "metadata": {
        "id": "P3Uajdxv9Cii"
      }
    },
    {
      "cell_type": "code",
      "source": [
        "image_ini = []\n",
        "image_gris = []\n",
        "\n",
        "im_size = 150\n",
        "\n",
        "for k in range(0, 201):\n",
        "    try:\n",
        "        image_ini.append(np.array(Image.open(fr\"im-{k:03}_im.png\").convert(\"RGB\").resize((im_size, im_size))))\n",
        "        image_gris.append(np.array(Image.open(fr\"im-{k:03}_seg.png\").convert(\"L\").resize((im_size, im_size))))\n",
        "    except(IOError, OSError):\n",
        "        pass"
      ],
      "metadata": {
        "id": "nrcFYRC81aU0"
      },
      "execution_count": null,
      "outputs": []
    },
    {
      "cell_type": "code",
      "source": [
        "image_gris[4]"
      ],
      "metadata": {
        "id": "EkA9o5tZ2cVI"
      },
      "execution_count": null,
      "outputs": []
    },
    {
      "cell_type": "code",
      "source": [
        "for k in range(9):\n",
        "    ax = plt.subplot(3,3, k+1)\n",
        "    plt.imshow(image_gris[k], cmap =\"gray\")\n",
        "    plt.axis(\"off\")\n",
        "plt.show()"
      ],
      "metadata": {
        "id": "935kgK8h14w_"
      },
      "execution_count": null,
      "outputs": []
    },
    {
      "cell_type": "markdown",
      "source": [
        "150 x 150 px pour chaque image"
      ],
      "metadata": {
        "id": "rphFrT9-9Kfr"
      }
    },
    {
      "cell_type": "markdown",
      "source": [
        "# 2 - Normalisation (intensité des pixels de 0 à 1) "
      ],
      "metadata": {
        "id": "txb7rA_G9Ygd"
      }
    },
    {
      "cell_type": "code",
      "source": [
        "image_ini = np.asarray(image_ini)\n",
        "image_gris = np.asarray(image_gris)"
      ],
      "metadata": {
        "id": "dFZSJoh_2TGi"
      },
      "execution_count": null,
      "outputs": []
    },
    {
      "cell_type": "code",
      "source": [
        "image_gris[4]"
      ],
      "metadata": {
        "id": "lb76w1up2T_t"
      },
      "execution_count": null,
      "outputs": []
    },
    {
      "cell_type": "code",
      "source": [
        "image_ini = np.array(image_ini)\n",
        "image_gris = np.array(image_gris)\n",
        "\n",
        "# Perform element-wise division by 255\n",
        "image_ini = image_ini / 255\n",
        "image_gris = image_gris / 255\n",
        "print(image_gris[4])\n",
        "# Convert the data type to 'float32'\n",
        "image_ini = image_ini.astype('float32')\n",
        "image_gris = image_gris.astype('float32')"
      ],
      "metadata": {
        "id": "VXCPyegv2FCU"
      },
      "execution_count": null,
      "outputs": []
    },
    {
      "cell_type": "code",
      "source": [
        "image_gris[4]"
      ],
      "metadata": {
        "id": "lt6gdH6M8Gym"
      },
      "execution_count": null,
      "outputs": []
    },
    {
      "cell_type": "markdown",
      "source": [
        "-----"
      ],
      "metadata": {
        "id": "cBV8ZP2e-wqD"
      }
    },
    {
      "cell_type": "code",
      "source": [
        "\n",
        "\n",
        "\n",
        "# Display the image using matplotlib\n",
        "plt.imshow(image_gris[4], cmap='Greys')\n",
        "plt.axis('off')  # Hide the axis\n",
        "\n",
        "plt.show()"
      ],
      "metadata": {
        "id": "nw_s5ADh8h6b"
      },
      "execution_count": null,
      "outputs": []
    },
    {
      "cell_type": "markdown",
      "source": [
        "# 3 - Seuillage (récupérer pixel de la carapace)"
      ],
      "metadata": {
        "id": "Oll5tYrM-xit"
      }
    },
    {
      "cell_type": "code",
      "source": [
        "\n",
        "# Display the image using matplotlib\n",
        "plt.imshow(image_gris[4], cmap='Greys')\n",
        "plt.axis('off')  # Hide the axis\n",
        "\n",
        "plt.savefig('image_gris_4.png')"
      ],
      "metadata": {
        "id": "psQsRE4p_Gsv"
      },
      "execution_count": null,
      "outputs": []
    },
    {
      "cell_type": "code",
      "source": [
        "image_t = Image.open('image_gris_4.png')\n",
        "# Define the desired size\n",
        "new_size = (340, 340)\n",
        "\n",
        "# Resize the image\n",
        "resized_image = image_t.resize(new_size)\n",
        "\n",
        "# Save the resized image to a file\n",
        "resized_image.save('resized_image.png')\n",
        "\n",
        "\n",
        "# Display the resized image\n",
        "plt.imshow(image_t)\n",
        "plt.axis('off')\n",
        "plt.show()"
      ],
      "metadata": {
        "id": "G3wrTH-r_vPC"
      },
      "execution_count": null,
      "outputs": []
    },
    {
      "cell_type": "code",
      "source": [
        "image_segmentee = np.array(image_t)\n",
        "\n",
        "# Seuillage pour extraire les pixels souhaités\n",
        "threshold_value = 255\n",
        "_, binary_mask = cv2.threshold(image_segmentee, threshold_value, 255, cv2.THRESH_BINARY)\n",
        "\n",
        "plt.imshow(binary_mask, cmap='gray')\n",
        "plt.axis('off')\n",
        "plt.show()"
      ],
      "metadata": {
        "id": "slLiwT5W_mvQ"
      },
      "execution_count": null,
      "outputs": []
    }
  ]
}