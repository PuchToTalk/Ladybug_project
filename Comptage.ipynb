{
  "nbformat": 4,
  "nbformat_minor": 0,
  "metadata": {
    "colab": {
      "private_outputs": true,
      "provenance": [],
      "gpuType": "T4",
      "authorship_tag": "ABX9TyMChPIWIMxOvJUUR8dsKouH",
      "include_colab_link": true
    },
    "kernelspec": {
      "name": "python3",
      "display_name": "Python 3"
    },
    "language_info": {
      "name": "python"
    },
    "accelerator": "GPU",
    "gpuClass": "standard"
  },
  "cells": [
    {
      "cell_type": "markdown",
      "metadata": {
        "id": "view-in-github",
        "colab_type": "text"
      },
      "source": [
        "<a href=\"https://colab.research.google.com/github/PuchToTalk/Ladybug_project/blob/comptage/Comptage.ipynb\" target=\"_parent\"><img src=\"https://colab.research.google.com/assets/colab-badge.svg\" alt=\"Open In Colab\"/></a>"
      ]
    },
    {
      "cell_type": "code",
      "execution_count": null,
      "metadata": {
        "id": "m9h88xhjXPAe"
      },
      "outputs": [],
      "source": [
        "from google.colab.patches import cv2_imshow\n",
        "import matplotlib.pyplot as plt\n",
        "from PIL import Image\n",
        "import cv2\n",
        "import numpy as np\n",
        "\n",
        "\n",
        "# Charger l'image segmentée (en niveau de gris)\n",
        "\n",
        "\n",
        "image = Image.open('im-002_seg.png').convert(\"L\")\n",
        "\n",
        "# Display the image using matplotlib\n",
        "plt.imshow(image, cmap='Greys')\n",
        "plt.axis('off')  # Hide the axis\n",
        "\n",
        "plt.savefig('thresholded_image.png')"
      ]
    },
    {
      "cell_type": "code",
      "source": [
        "image_t = Image.open('thresholded_image.png')\n",
        "\n",
        "new_size = (width, height) \n",
        "resized_image = image.resize(image_t)\n",
        "\n",
        "# Save or display the resized image\n",
        "resized_image.save('resized_image.jpg')  # Save the resized image to a file\n",
        "\n",
        "plt.imshow(resized_image)\n",
        "plt.axis('off')  # Hide the axis\n",
        "plt.show()"
      ],
      "metadata": {
        "id": "8dTp7o4ZeDdL"
      },
      "execution_count": null,
      "outputs": []
    },
    {
      "cell_type": "code",
      "source": [
        "image_segmentee = np.array(image_t)\n",
        "\n",
        "# Seuillage pour extraire les pixels souhaités\n",
        "seuil_inf = 100  # Ajuster le seuil inférieur en fonction de vos données\n",
        "seuil_sup = 200  # Ajuster le seuil supérieur en fonction de vos données\n",
        "_, thresholded_image = cv2.threshold(image_segmentee, seuil_inf, seuil_sup, cv2.THRESH_BINARY)\n",
        "\n",
        "# Display the thresholded image using matplotlib\n",
        "plt.imshow(thresholded_image, cmap=\"gray\")\n",
        "plt.axis('off')  # Hide the axis\n"
      ],
      "metadata": {
        "id": "QiKxVRQchasX"
      },
      "execution_count": null,
      "outputs": []
    },
    {
      "cell_type": "code",
      "source": [
        "print(image_segmentee)"
      ],
      "metadata": {
        "id": "bmTlt4PEdA_D"
      },
      "execution_count": null,
      "outputs": []
    }
  ]
}