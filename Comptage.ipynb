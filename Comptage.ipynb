{
  "nbformat": 4,
  "nbformat_minor": 0,
  "metadata": {
    "colab": {
      "private_outputs": true,
      "provenance": [],
      "gpuType": "T4",
      "include_colab_link": true
    },
    "kernelspec": {
      "name": "python3",
      "display_name": "Python 3"
    },
    "language_info": {
      "name": "python"
    },
    "accelerator": "GPU",
    "gpuClass": "standard"
  },
  "cells": [
    {
      "cell_type": "markdown",
      "metadata": {
        "id": "view-in-github",
        "colab_type": "text"
      },
      "source": [
        "<a href=\"https://colab.research.google.com/github/PuchToTalk/Ladybug_project/blob/comptage/Comptage.ipynb\" target=\"_parent\"><img src=\"https://colab.research.google.com/assets/colab-badge.svg\" alt=\"Open In Colab\"/></a>"
      ]
    },
    {
      "cell_type": "markdown",
      "source": [
        "# **Objectif** : Compter le nombre de points sur la coccinelle"
      ],
      "metadata": {
        "id": "uRy1foXBQEWj"
      }
    },
    {
      "cell_type": "markdown",
      "source": [
        "__**Explication du raisonnement :**__\n",
        "\n",
        "\n",
        "*   Je compte supprimer le fond de l'image (quel que soit sa couleur / l'environnement, en me basant sur le premier pixel de chaque image).\n",
        "*   De cette valeur, j'en créer un masque qui comporte toutes les zones ayant cette valeur de pixel.\n",
        "*   Masque qui sera ensuite appliqué sur notre image initiale (colorée)\n",
        "*   J'impose comme fond : la couleur blanche, pour que l'image (comportant uniquement notre coccinelle) soit plus simple à traiter par la suite : pour les clusters de couleur par ex\n",
        "\n",
        "\n",
        "\n"
      ],
      "metadata": {
        "id": "MGA9RhIhQLhF"
      }
    },
    {
      "cell_type": "markdown",
      "source": [
        "## 0 - Brouillon"
      ],
      "metadata": {
        "id": "UxiIsnW6Q4c5"
      }
    },
    {
      "cell_type": "code",
      "execution_count": null,
      "metadata": {
        "id": "m9h88xhjXPAe"
      },
      "outputs": [],
      "source": [
        "from google.colab.patches import cv2_imshow\n",
        "import matplotlib.pyplot as plt\n",
        "from PIL import Image\n",
        "import cv2\n",
        "import numpy as np\n",
        "\n",
        "\n",
        "# Charger l'image segmentée (en niveau de gris)\n",
        "\n",
        "\n",
        "image = Image.open('im-002_seg.png').convert(\"L\")\n",
        "\n",
        "width, height = image.size\n",
        "\n",
        "# Display the size\n",
        "print(f\"Initial image size: {width} x {height}\")\n",
        "\n",
        "# Define the desired size\n",
        "new_size = (150, 150)\n",
        "\n",
        "# Resize the image\n",
        "resized_image = image.resize(new_size)\n",
        "\n",
        "# Save the resized image to a file\n",
        "resized_image.save('resized_image.png')\n",
        "\n",
        "\n",
        "# Display the image using matplotlib\n",
        "plt.imshow(resized_image, cmap='Greys')\n",
        "plt.axis('off')  # Hide the axis\n",
        "\n",
        "plt.savefig('thresholded_image.png')\n",
        "\n"
      ]
    },
    {
      "cell_type": "code",
      "source": [
        "image_t = Image.open('thresholded_image.png')\n",
        "# Define the desired size\n",
        "new_size = (340, 340)\n",
        "\n",
        "# Resize the image\n",
        "resized_image = image_t.resize(new_size)\n",
        "\n",
        "# Save the resized image to a file\n",
        "resized_image.save('resized_image.png')\n",
        "\n",
        "\n",
        "# Display the resized image\n",
        "plt.imshow(image_t)\n",
        "plt.axis('off')\n",
        "plt.show()"
      ],
      "metadata": {
        "id": "8dTp7o4ZeDdL"
      },
      "execution_count": null,
      "outputs": []
    },
    {
      "cell_type": "code",
      "source": [
        "image_segmentee = np.array(image_t)\n",
        "\n",
        "# Seuillage pour extraire les pixels souhaités\n",
        "seuil_inf = 100  # Ajuster le seuil inférieur en fonction de vos données\n",
        "seuil_sup = 200  # Ajuster le seuil supérieur en fonction de vos données\n",
        "_, thresholded_image = cv2.threshold(image_segmentee, seuil_inf, seuil_sup, cv2.THRESH_BINARY)\n",
        "\n",
        "# Display the thresholded image using matplotlib\n",
        "plt.imshow(thresholded_image, cmap=\"gray\")\n",
        "plt.axis('off')  # Hide the axis\n"
      ],
      "metadata": {
        "id": "QiKxVRQchasX"
      },
      "execution_count": null,
      "outputs": []
    },
    {
      "cell_type": "code",
      "source": [
        "print(image_segmentee)"
      ],
      "metadata": {
        "id": "bmTlt4PEdA_D"
      },
      "execution_count": null,
      "outputs": []
    },
    {
      "cell_type": "markdown",
      "source": [
        "## **1 - Redimensionnement (150 x 150 px)**"
      ],
      "metadata": {
        "id": "P3Uajdxv9Cii"
      }
    },
    {
      "cell_type": "code",
      "source": [
        "import matplotlib.image as mpimg\n",
        "import os\n",
        "\n",
        "image_ini = []\n",
        "image_gris = []\n",
        "\n",
        "im_size = 150\n",
        "\n",
        "# Create the \"new seg\" folder if it doesn't exist\n",
        "folder_name = \"New_Image_Seg\"\n",
        "if not os.path.exists(folder_name):\n",
        "    os.makedirs(folder_name)\n",
        "\n",
        "folder_name2 = \"Resized_Image\"\n",
        "if not os.path.exists(folder_name2):\n",
        "    os.makedirs(folder_name2)\n",
        "\n",
        "for k in range(0, 201):\n",
        "    try:\n",
        "        image_ini.append(np.array(Image.open(fr\"im-{k:03}_im.png\").convert(\"RGB\").resize((im_size, im_size))))\n",
        "        image_gris.append(np.array(Image.open(fr\"im-{k:03}_seg.png\").convert(\"L\").resize((im_size, im_size))))\n",
        "        save_path = os.path.join(folder_name, fr\"im-{k:03}_new_seg.png\")\n",
        "        mpimg.imsave(save_path, image_gris[k-1], cmap=\"gray\") \n",
        "        save_path2 = os.path.join(folder_name2, fr\"im-{k:03}_im.png\")\n",
        "        mpimg.imsave(save_path2, image_ini[k-1])\n",
        "    except(IOError, OSError):\n",
        "        pass"
      ],
      "metadata": {
        "id": "nrcFYRC81aU0"
      },
      "execution_count": null,
      "outputs": []
    },
    {
      "cell_type": "code",
      "source": [
        "image_gris[4]"
      ],
      "metadata": {
        "id": "EkA9o5tZ2cVI"
      },
      "execution_count": null,
      "outputs": []
    },
    {
      "cell_type": "code",
      "source": [
        "for k in range(9):\n",
        "    ax = plt.subplot(3,3, k+1)\n",
        "    plt.imshow(image_gris[k], cmap =\"gray\")\n",
        "    plt.axis(\"off\")\n",
        "plt.show()"
      ],
      "metadata": {
        "id": "935kgK8h14w_"
      },
      "execution_count": null,
      "outputs": []
    },
    {
      "cell_type": "markdown",
      "source": [
        "150 x 150 px pour chaque image"
      ],
      "metadata": {
        "id": "rphFrT9-9Kfr"
      }
    },
    {
      "cell_type": "markdown",
      "source": [
        "## **2 - Normalisation (intensité des pixels de 0 à 1)**"
      ],
      "metadata": {
        "id": "txb7rA_G9Ygd"
      }
    },
    {
      "cell_type": "code",
      "source": [
        "image_ini = np.asarray(image_ini)\n",
        "image_gris = np.asarray(image_gris)"
      ],
      "metadata": {
        "id": "dFZSJoh_2TGi"
      },
      "execution_count": null,
      "outputs": []
    },
    {
      "cell_type": "code",
      "source": [
        "image_gris[2]"
      ],
      "metadata": {
        "id": "lb76w1up2T_t"
      },
      "execution_count": null,
      "outputs": []
    },
    {
      "cell_type": "code",
      "source": [
        "image_ini = np.array(image_ini)\n",
        "image_gris = np.array(image_gris)\n",
        "\n",
        "# Perform element-wise division by 255\n",
        "image_ini = image_ini / 255\n",
        "image_gris = image_gris / 255\n",
        "print(image_gris[2])\n",
        "# Convert the data type to 'float32'\n",
        "image_ini = image_ini.astype('float32')\n",
        "image_gris = image_gris.astype('float32')"
      ],
      "metadata": {
        "id": "VXCPyegv2FCU"
      },
      "execution_count": null,
      "outputs": []
    },
    {
      "cell_type": "code",
      "source": [
        "image_gris[2]"
      ],
      "metadata": {
        "id": "lt6gdH6M8Gym"
      },
      "execution_count": null,
      "outputs": []
    },
    {
      "cell_type": "markdown",
      "source": [
        "-----"
      ],
      "metadata": {
        "id": "cBV8ZP2e-wqD"
      }
    },
    {
      "cell_type": "code",
      "source": [
        "\n",
        "\n",
        "\n",
        "# Display the image using matplotlib\n",
        "plt.imshow(image_gris[2], cmap='Greys')\n",
        "plt.axis('off')  # Hide the axis\n",
        "\n",
        "plt.show()"
      ],
      "metadata": {
        "id": "nw_s5ADh8h6b"
      },
      "execution_count": null,
      "outputs": []
    },
    {
      "cell_type": "markdown",
      "source": [
        "## **3 - Seuillage (récupérer pixel de la carapace)**"
      ],
      "metadata": {
        "id": "Oll5tYrM-xit"
      }
    },
    {
      "cell_type": "code",
      "source": [
        "\n",
        "# Display the image using matplotlib\n",
        "plt.imshow(image_gris[2], cmap='Greys')\n",
        "plt.axis('off')  # Hide the axis\n",
        "\n",
        "plt.savefig('image_gris_4.png')\n"
      ],
      "metadata": {
        "id": "psQsRE4p_Gsv"
      },
      "execution_count": null,
      "outputs": []
    },
    {
      "cell_type": "code",
      "source": [
        "\n",
        "thresholded_image = cv2.imread('image_gris_4.png', cv2.IMREAD_GRAYSCALE)\n",
        "plt.imshow(thresholded_image, cmap='Greys')\n",
        "_, labels = cv2.connectedComponents(thresholded_image)\n",
        "\n",
        "# Count the number of spots (excluding the background)\n",
        "num_spots = np.max(labels) - 1\n",
        "\n",
        "# Print the number of spots\n",
        "print('Number of spots:', num_spots)"
      ],
      "metadata": {
        "id": "Yw1VWD0CGcIM"
      },
      "execution_count": null,
      "outputs": []
    },
    {
      "cell_type": "code",
      "source": [
        "image_segmentee = np.array(thresholded_image)\n",
        "\n",
        "# Seuillage pour extraire les pixels souhaités\n",
        "seuil_inf = 40  # Ajuster le seuil inférieur en fonction de vos données\n",
        "seuil_sup = 100  # Ajuster le seuil supérieur en fonction de vos données\n",
        "_, thresholded_image = cv2.threshold(image_segmentee, seuil_inf, seuil_sup, cv2.THRESH_BINARY)\n",
        "\n",
        "\n",
        "\n",
        "\n",
        "\n",
        "\n",
        "\n",
        "_, labels = cv2.connectedComponents(thresholded_image)\n",
        "\n",
        "# Count the number of spots (excluding the background)\n",
        "num_spots = np.max(labels) - 1\n",
        "\n",
        "# Display the thresholded image using matplotlib\n",
        "plt.imshow(thresholded_image, cmap=\"gray\")\n",
        "plt.axis('off')  # Hide the axis\n",
        "# Print the number of spots\n",
        "print('Number of spots:', num_spots)"
      ],
      "metadata": {
        "id": "3tLje49nG9Wk"
      },
      "execution_count": null,
      "outputs": []
    },
    {
      "cell_type": "markdown",
      "source": [
        "Detecter la coccinelle - Distinguer du fond"
      ],
      "metadata": {
        "id": "_iK3GlTsJAyt"
      }
    },
    {
      "cell_type": "code",
      "source": [
        "image_t = Image.open('image_gris_4.png')\n",
        "\n",
        "\n",
        "\n",
        "# Display the resized image\n",
        "plt.imshow(image_t)\n",
        "plt.axis('off')\n",
        "plt.show()"
      ],
      "metadata": {
        "id": "G3wrTH-r_vPC"
      },
      "execution_count": null,
      "outputs": []
    },
    {
      "cell_type": "code",
      "source": [
        "image_segmentee = np.array(image_t)\n",
        "\n",
        "# Seuillage pour extraire les pixels souhaités\n",
        "threshold_value = 250\n",
        "_, binary_mask = cv2.threshold(image_segmentee, threshold_value, 255, cv2.THRESH_BINARY)\n",
        "\n",
        "plt.imshow(binary_mask, cmap='gray')\n",
        "plt.axis('off')\n",
        "plt.show()\n",
        "plt.savefig('image_sans_fond.png')"
      ],
      "metadata": {
        "id": "slLiwT5W_mvQ"
      },
      "execution_count": null,
      "outputs": []
    },
    {
      "cell_type": "code",
      "source": [
        "import cv2\n",
        "import numpy as np\n",
        "from PIL import Image\n",
        "\n",
        "# Load the thresholded image\n",
        "thresholded_image = cv2.imread('image_sans_fond.png', cv2.IMREAD_GRAYSCALE)\n",
        "plt.imshow(thresholded_image, cmap='gray')\n",
        "# Apply connected component analysis\n",
        "_, labels = cv2.connectedComponents(thresholded_image)\n",
        "\n",
        "# Count the number of spots (excluding the background)\n",
        "num_spots = np.max(labels) - 1\n",
        "\n",
        "# Print the number of spots\n",
        "print('Number of spots:', num_spots)\n"
      ],
      "metadata": {
        "id": "5lu-L1zkFXIX"
      },
      "execution_count": null,
      "outputs": []
    },
    {
      "cell_type": "markdown",
      "source": [
        "## **4 - Suppression du fond arrière plan**"
      ],
      "metadata": {
        "id": "eMGwOMh3tIfh"
      }
    },
    {
      "cell_type": "markdown",
      "source": [
        "**Étape :** Création de notre masque en se basant sur le premier pixel de l'image"
      ],
      "metadata": {
        "id": "M9Ra56D9Phkf"
      }
    },
    {
      "cell_type": "code",
      "source": [
        "import cv2\n",
        "import numpy as np\n",
        "from google.colab.patches import cv2_imshow\n",
        "\n",
        "# Load the grayscale image\n",
        "image_gray = cv2.imread('New_Image_Seg/im-006_new_seg.png', cv2.IMREAD_GRAYSCALE)\n",
        "\n",
        "# Get the value of the first pixel\n",
        "first_pixel_value = image_gray[0, 0]\n",
        "\n",
        "# Create a mask with the same size as the image\n",
        "mask_cocci = np.zeros_like(image_gray)\n",
        "mask_fond = np.zeros_like(image_gray)\n",
        "# Set pixels with the same value as the first pixel to 255 in the mask\n",
        "mask_cocci[image_gray != first_pixel_value] = 255\n",
        "#cv2_imshow(mask_cocci)\n",
        "mask_fond[image_gray == first_pixel_value] = 255\n",
        "#cv2_imshow(mask_fond)\n",
        "\n",
        "# Apply the mask to the image\n",
        "image_result_fond = cv2.bitwise_and(image_gray, mask_fond)\n",
        "image_result_cocci = cv2.bitwise_and(image_gray, mask_cocci)\n",
        "\n",
        "# Display the original and resulting image using cv2_imshow()\n",
        "cv2_imshow(image_gray)\n",
        "cv2_imshow(image_result_cocci)\n"
      ],
      "metadata": {
        "id": "X9nP27zWycDv"
      },
      "execution_count": null,
      "outputs": []
    },
    {
      "cell_type": "code",
      "source": [
        "cv2_imshow(image_result_cocci)"
      ],
      "metadata": {
        "id": "1g6Bp5jzywZk"
      },
      "execution_count": null,
      "outputs": []
    },
    {
      "cell_type": "markdown",
      "source": [
        "**Application de notre masque sur notre image segmentée**"
      ],
      "metadata": {
        "id": "kWyj1XrSPKpo"
      }
    },
    {
      "cell_type": "code",
      "source": [
        "\n",
        "# Load the grayscale image\n",
        "image_six = cv2.imread('Resized_Image/im-006_im.png', cv2.IMREAD_GRAYSCALE)\n",
        "cv2_imshow(image_six)"
      ],
      "metadata": {
        "id": "XqU8MjRt1Zm1"
      },
      "execution_count": null,
      "outputs": []
    },
    {
      "cell_type": "code",
      "source": [
        "import cv2\n",
        "import numpy as np\n",
        "from google.colab.patches import cv2_imshow\n",
        "\n",
        "# Load the grayscale image\n",
        "image_gray = cv2.imread('New_Image_Seg/im-006_new_seg.png', cv2.IMREAD_GRAYSCALE)\n",
        "\n",
        "# Get the value of the first pixel\n",
        "first_pixel_value = image_gray[0, 0]\n",
        "\n",
        "# Create a mask with the same size as the image\n",
        "mask_cocci = np.zeros_like(image_gray)\n",
        "\n",
        "# Set pixels with the same value as the first pixel to 255 in the mask\n",
        "mask_cocci[image_gray != first_pixel_value] = 255\n",
        "#cv2_imshow(mask_cocci)\n",
        "cv2_imshow(mask_cocci)\n",
        "\n",
        "# Apply the mask to the image\n",
        "image_result_cocci = cv2.bitwise_and(image_six, mask_cocci)\n",
        "\n",
        "# Display the original and resulting image using cv2_imshow()\n",
        "cv2_imshow(image_gray)\n",
        "cv2_imshow(image_result_cocci)\n"
      ],
      "metadata": {
        "id": "gnZgN_CS17wx"
      },
      "execution_count": null,
      "outputs": []
    },
    {
      "cell_type": "markdown",
      "source": [
        "(facultatif) Ajout d'un fond blanc pour distinguer les différents points de la coccinelle"
      ],
      "metadata": {
        "id": "1LhwikLTPau8"
      }
    },
    {
      "cell_type": "code",
      "source": [
        "import cv2\n",
        "import numpy as np\n",
        "from google.colab.patches import cv2_imshow\n",
        "\n",
        "\n",
        "# Get the value of the first pixel as the background pixel value\n",
        "background_pixel_value = image_result_cocci[0, 0]\n",
        "\n",
        "# Create a mask for the background pixels\n",
        "background_mask = (image_result_cocci == background_pixel_value)\n",
        "\n",
        "# Set the background pixels to 255\n",
        "image_result_cocci[background_mask] = 255\n",
        "\n",
        "# Display the resulting image\n",
        "cv2_imshow(image_result_cocci)\n"
      ],
      "metadata": {
        "id": "CwJpCnSg0bri"
      },
      "execution_count": null,
      "outputs": []
    },
    {
      "cell_type": "markdown",
      "source": [
        "**Application de notre masque sur notre image colorée**"
      ],
      "metadata": {
        "id": "w6HjnIsSPX_7"
      }
    },
    {
      "cell_type": "code",
      "source": [
        "\n",
        "# Load the grayscale image\n",
        "image_six_colored = cv2.imread('Resized_Image/im-006_im.png', cv2.IMREAD_COLOR)\n",
        "cv2_imshow(image_six_colored)"
      ],
      "metadata": {
        "id": "UqYcJ6AaKLdQ"
      },
      "execution_count": null,
      "outputs": []
    },
    {
      "cell_type": "code",
      "source": [
        "import cv2\n",
        "import numpy as np\n",
        "from google.colab.patches import cv2_imshow\n",
        "\n",
        "# Load the RGB colored image\n",
        "image_rgb = cv2.imread('Resized_Image/im-006_im.png', cv2.IMREAD_COLOR)\n",
        "\n",
        "# Get the value of the first pixel from the grayscale image\n",
        "image_gray = cv2.imread('New_Image_Seg/im-006_new_seg.png', cv2.IMREAD_GRAYSCALE)\n",
        "first_pixel_value = image_gray[0, 0]\n",
        "\n",
        "# Create a mask with the same size as the RGB image\n",
        "mask_cocci = np.zeros_like(image_rgb[:, :, 0])  # Create mask with the same width and height as the RGB image\n",
        "\n",
        "# Set pixels with the same value as the first pixel to 255 in the mask\n",
        "mask_cocci[image_gray != first_pixel_value] = 255\n",
        "\n",
        "# Apply the mask to each channel of the RGB image\n",
        "image_result_cocci = cv2.bitwise_and(image_rgb, image_rgb, mask=mask_cocci)\n",
        "\n",
        "# Display the original RGB image and the resulting image using cv2_imshow()\n",
        "cv2_imshow(image_rgb)\n",
        "cv2_imshow(image_result_cocci)\n"
      ],
      "metadata": {
        "id": "iiJhk2qZKRvW"
      },
      "execution_count": null,
      "outputs": []
    },
    {
      "cell_type": "code",
      "source": [
        "background_pixel_value = image_result_cocci[0, 0]\n",
        "\n",
        "# Create a mask for the background pixels\n",
        "background_mask = (image_result_cocci == background_pixel_value)\n",
        "\n",
        "# Set the background pixels to 255\n",
        "image_result_cocci[background_mask] = 255\n",
        "\n",
        "# Display the resulting image\n",
        "cv2_imshow(image_result_cocci)"
      ],
      "metadata": {
        "id": "MGdlMzkANg59"
      },
      "execution_count": null,
      "outputs": []
    },
    {
      "cell_type": "markdown",
      "source": [
        "Remarques: des rayons bleus apparaissent (dû aux paramètres du masque sûrement) "
      ],
      "metadata": {
        "id": "EIdJGStrPsTN"
      }
    },
    {
      "cell_type": "markdown",
      "source": [
        "---\n",
        "\n",
        "\n"
      ],
      "metadata": {
        "id": "BfrnEoeoP2J7"
      }
    },
    {
      "cell_type": "markdown",
      "source": [
        "Stocker les images sans fond dans un nouveau dossier"
      ],
      "metadata": {
        "id": "CDA4ESGYP5eJ"
      }
    },
    {
      "cell_type": "code",
      "source": [
        "\n",
        "\n",
        "folder_name3 = \"No_Background_Image\"\n",
        "if not os.path.exists(folder_name3):\n",
        "    os.makedirs(folder_name3)\n",
        "\n",
        "for k in range(0, 51):\n",
        "    try:\n",
        "        # Load the RGB colored image\n",
        "        image_rgb = cv2.imread(f'Resized_Image/im-{k:03}_im.png', cv2.IMREAD_COLOR)\n",
        "\n",
        "        # Load the segmented grayscale image\n",
        "        image_gray = cv2.imread(f'New_Image_Seg/im-{k:03}_new_seg.png', cv2.IMREAD_GRAYSCALE)\n",
        "\n",
        "        # Check if image_gray is None (not loaded)\n",
        "        if image_gray is None:\n",
        "            raise Exception(f\"Failed to load image: New_Image_Seg/im-{k:03}_new_seg.png\")\n",
        "\n",
        "        # Get the value of the first pixel from the grayscale image\n",
        "        first_pixel_value = image_gray[0, 0]\n",
        "\n",
        "        # Create a mask with the same size as the RGB image\n",
        "        mask_cocci = np.zeros_like(image_rgb[:, :, 0])  # Create mask with the same width and height as the RGB image\n",
        "\n",
        "        # Set pixels with the same value as the first pixel to 255 in the mask\n",
        "        mask_cocci[image_gray != first_pixel_value] = 255\n",
        "\n",
        "        # Apply the mask to each channel of the RGB image\n",
        "        image_result_cocci = cv2.bitwise_and(image_rgb, image_rgb, mask=mask_cocci)\n",
        "\n",
        "        # Display the original RGB image and the resulting image using cv2_imshow()\n",
        "        #cv2_imshow(image_rgb)\n",
        "        #cv2_imshow(image_result_cocci)\n",
        "\n",
        "\n",
        "\n",
        "        background_pixel_value = image_result_cocci[0, 0]\n",
        "        background_mask = (image_result_cocci == background_pixel_value)\n",
        "        image_result_cocci[background_mask] = 255\n",
        "        cv2_imshow(image_result_cocci)\n",
        "\n",
        "        save_path3 = os.path.join(folder_name3, fr\"im-{k:03}_im.png\")\n",
        "        #mpimg.imsave(save_path3, image_result_cocci) # cette méthode de save renvoie des images teints bleu\n",
        "        cv2.imwrite(save_path3, image_result_cocci) # cette méthode réduit l'effet lumière bleu en save\n",
        "\n",
        "\n",
        "\n",
        "\n",
        "    except Exception as e:\n",
        "        print(f\"Error processing image {k}: {e}\")\n"
      ],
      "metadata": {
        "id": "T7z-XK91P458"
      },
      "execution_count": null,
      "outputs": []
    }
  ]
}